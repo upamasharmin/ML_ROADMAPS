{
  "nbformat": 4,
  "nbformat_minor": 0,
  "metadata": {
    "colab": {
      "name": "ML_RoadMaps.ipynb",
      "provenance": [],
      "collapsed_sections": [
        "OtI7qVELaXgN",
        "zYu92hh3Mq2v",
        "TiOScmF9Icus",
        "ZszPsXxy87ia",
        "TqkcBKWVLqaJ",
        "rDd4xIGfO7I-",
        "7hZNiRw7XwGy",
        "21fVXUHsChn1"
      ],
      "authorship_tag": "ABX9TyNX/KkCWYGwgZPlBj2KzciI",
      "include_colab_link": true
    },
    "kernelspec": {
      "display_name": "Python 3",
      "name": "python3"
    },
    "language_info": {
      "name": "python"
    }
  },
  "cells": [
    {
      "cell_type": "markdown",
      "metadata": {
        "id": "view-in-github",
        "colab_type": "text"
      },
      "source": [
        "<a href=\"https://colab.research.google.com/github/upamasharmin/ML_ROADMAPS/blob/main/ML_RoadMaps.ipynb\" target=\"_parent\"><img src=\"https://colab.research.google.com/assets/colab-badge.svg\" alt=\"Open In Colab\"/></a>"
      ]
    },
    {
      "cell_type": "markdown",
      "metadata": {
        "id": "zUig_z_u_PeX"
      },
      "source": [
        ""
      ]
    },
    {
      "cell_type": "markdown",
      "metadata": {
        "id": "YNDqU984-3dq"
      },
      "source": [
        "**ml_roadmaps_week(1)**"
      ]
    },
    {
      "cell_type": "markdown",
      "metadata": {
        "id": "_AmVVk6R_Vfy"
      },
      "source": [
        "Variable"
      ]
    },
    {
      "cell_type": "code",
      "metadata": {
        "colab": {
          "base_uri": "https://localhost:8080/"
        },
        "id": "M-ZpHNuE_Mlp",
        "outputId": "2222cf2a-f9c4-4bd3-83d0-a088fc1de3c9"
      },
      "source": [
        "rent=8000\n",
        "petrol=500.5\n",
        "groceries=2050.5\n",
        "print(rent)\n",
        "total=rent+petrol+groceries\n",
        "\n",
        "gabbar=\"amjad khan\"\n",
        "jay=\"amitabh\"\n",
        "thakur=\"sanjiv kumar\"\n",
        "\n",
        "print(\"actors in sholey: \",gabbar,jay,thakur)\n",
        "\n",
        "print(type(rent))\n",
        "print(type(groceries))\n",
        "print(type(gabbar))\n",
        "\n",
        "# boolean\n",
        "learn_python=True\n",
        "learn_fortran=False\n",
        "\n",
        "# variable naming rules\n",
        "# no keywords: example True, for\n",
        "# no special characters: foo+bar\n",
        "# they must begin with a letter or _\n",
        "# other characters can be letters (a to Z, A to Z) or numbers (0 to 9)\n",
        "# names are case sensitive\n",
        "\n",
        "bade_bhai=10\n",
        "bade_Bhai=5\n",
        "print(bade_bhai)\n",
        "print(bade_Bhai)\n",
        "\n",
        "# above naming convention is called snake_case\n",
        "\n",
        "# In python you can assign variable any value, not like strict typed language where\n",
        "# you have to declare data type of a variable in advance\n",
        "\n",
        "foo=5\n",
        "foo=\"jalebi\"\n",
        "bar=foo\n",
        "print(\"bar id\",id(bar))\n",
        "print(\"foo id\",id(foo))\n",
        "bar=\"samosa\"\n",
        "foo=\"kachodi\" # at this point nothing is point to jalebi object and it will be garbage collected"
      ],
      "execution_count": null,
      "outputs": [
        {
          "name": "stdout",
          "output_type": "stream",
          "text": [
            "8000\n",
            "actors in sholey:  amjad khan amitabh sanjiv kumar\n",
            "<class 'int'>\n",
            "<class 'float'>\n",
            "<class 'str'>\n",
            "10\n",
            "5\n",
            "bar id 140179086379760\n",
            "foo id 140179086379760\n"
          ]
        }
      ]
    },
    {
      "cell_type": "markdown",
      "metadata": {
        "id": "j5KMCqtWDK1l"
      },
      "source": [
        "## Numbers"
      ]
    },
    {
      "cell_type": "code",
      "metadata": {
        "colab": {
          "base_uri": "https://localhost:8080/"
        },
        "id": "cA8n4Je6_cuD",
        "outputId": "59495506-b98a-4057-c98c-339d098c99f4"
      },
      "source": [
        "# 1. Use python to find area of triangle\n",
        "# area = (1/2)*base*height\n",
        "base=10.26\n",
        "height=20.572\n",
        "area=(1/2)*base*height\n",
        "print(\"area is:\",area) # area is: 105.53435999999999\n",
        "# to show area till 2 decimal places\n",
        "print(\"area rounded to 2 decimal place:\",round(area,2)) # 105.53\n",
        "\n",
        "# 2. basic airthmetic using numbers\n",
        "print(1+2) # 3\n",
        "print(1/2) # 0.5\n",
        "print(17%3) # 2\n",
        "print(3**2) # 9\n",
        "print(10+2*3) # 16\n",
        "print((10+2)*3) # 36\n",
        "\n",
        "# 3. Number data types (int, float, complex numbers)\n",
        "print(type(area)) # float\n",
        "foo=2.3e-3\n",
        "print(foo) # 0.0023\n",
        "print(type(1)) # int\n",
        "print(0x12) # 18\n",
        "print(type(0x12)) # int\n",
        "c1=2+3j\n",
        "print(type(c1)) # complex\n",
        "c2=3-4j\n",
        "print(c1+c2) # 5-j\n",
        "\n",
        "# 4. Internal representation of numbers\n",
        "# (a) integers are stored in simple binary format\n",
        "print(format(5,'b')) # 4 bytes (or 32 bits), visual of binary presentation\n",
        "# (b) floats use IEEE754 standard : https://en.wikipedia.org/wiki/IEEE_754\n",
        "print(6-5.7) # this prints 0.29999999 and not 0.3. why? Due to IEEE 754 standard"
      ],
      "execution_count": null,
      "outputs": [
        {
          "name": "stdout",
          "output_type": "stream",
          "text": [
            "area is: 105.53435999999999\n",
            "area rounded to 2 decimal place: 105.53\n",
            "3\n",
            "0.5\n",
            "2\n",
            "9\n",
            "16\n",
            "36\n",
            "<class 'float'>\n",
            "0.0023\n",
            "<class 'int'>\n",
            "18\n",
            "<class 'int'>\n",
            "<class 'complex'>\n",
            "(5-1j)\n",
            "101\n",
            "0.2999999999999998\n"
          ]
        }
      ]
    },
    {
      "cell_type": "markdown",
      "metadata": {
        "id": "2E1hW2ldeWPq"
      },
      "source": [
        "**Strings**"
      ]
    },
    {
      "cell_type": "code",
      "metadata": {
        "colab": {
          "base_uri": "https://localhost:8080/",
          "height": 35
        },
        "id": "8IFUZlt6DYuI",
        "outputId": "0c23422e-f2ee-4c74-e1f7-20b1b8a29900"
      },
      "source": [
        "\n",
        "food='samosa'\n",
        "\n",
        "food[0]"
      ],
      "execution_count": null,
      "outputs": [
        {
          "data": {
            "application/vnd.google.colaboratory.intrinsic+json": {
              "type": "string"
            },
            "text/plain": [
              "'s'"
            ]
          },
          "execution_count": 1,
          "metadata": {},
          "output_type": "execute_result"
        }
      ]
    },
    {
      "cell_type": "code",
      "metadata": {
        "colab": {
          "base_uri": "https://localhost:8080/",
          "height": 35
        },
        "id": "mRVaJTCKeoKI",
        "outputId": "fe55fdae-09ae-4f48-d28b-a1dc20a0a98d"
      },
      "source": [
        "food[-1]"
      ],
      "execution_count": null,
      "outputs": [
        {
          "data": {
            "application/vnd.google.colaboratory.intrinsic+json": {
              "type": "string"
            },
            "text/plain": [
              "'a'"
            ]
          },
          "execution_count": 2,
          "metadata": {},
          "output_type": "execute_result"
        }
      ]
    },
    {
      "cell_type": "code",
      "metadata": {
        "colab": {
          "base_uri": "https://localhost:8080/",
          "height": 35
        },
        "id": "AFo61i5BfRQD",
        "outputId": "49fe8c70-2907-49a4-9916-f67a6daf64c4"
      },
      "source": [
        "food[0:2]"
      ],
      "execution_count": null,
      "outputs": [
        {
          "data": {
            "application/vnd.google.colaboratory.intrinsic+json": {
              "type": "string"
            },
            "text/plain": [
              "'sa'"
            ]
          },
          "execution_count": 3,
          "metadata": {},
          "output_type": "execute_result"
        }
      ]
    },
    {
      "cell_type": "code",
      "metadata": {
        "colab": {
          "base_uri": "https://localhost:8080/",
          "height": 35
        },
        "id": "asxHdyfNfU54",
        "outputId": "8aabdbb3-4429-4fd0-dfa9-5bcbacf910aa"
      },
      "source": [
        "food[-3:-1]"
      ],
      "execution_count": null,
      "outputs": [
        {
          "data": {
            "application/vnd.google.colaboratory.intrinsic+json": {
              "type": "string"
            },
            "text/plain": [
              "'os'"
            ]
          },
          "execution_count": 4,
          "metadata": {},
          "output_type": "execute_result"
        }
      ]
    },
    {
      "cell_type": "code",
      "metadata": {
        "colab": {
          "base_uri": "https://localhost:8080/"
        },
        "id": "7KjB_eS_fXpc",
        "outputId": "e43b2c28-4ed3-4565-caa8-3dd4a0ea24a5"
      },
      "source": [
        "len(food)"
      ],
      "execution_count": null,
      "outputs": [
        {
          "data": {
            "text/plain": [
              "6"
            ]
          },
          "execution_count": 5,
          "metadata": {},
          "output_type": "execute_result"
        }
      ]
    },
    {
      "cell_type": "code",
      "metadata": {
        "id": "Ws_mmivDfiIb"
      },
      "source": [
        "myfood='samosa,jalebi'"
      ],
      "execution_count": null,
      "outputs": []
    },
    {
      "cell_type": "code",
      "metadata": {
        "colab": {
          "base_uri": "https://localhost:8080/"
        },
        "id": "sAENRsBAflVN",
        "outputId": "fd874336-d13b-4095-af12-1fe292ef51e3"
      },
      "source": [
        "'samosa' in myfood"
      ],
      "execution_count": null,
      "outputs": [
        {
          "data": {
            "text/plain": [
              "True"
            ]
          },
          "execution_count": 8,
          "metadata": {},
          "output_type": "execute_result"
        }
      ]
    },
    {
      "cell_type": "code",
      "metadata": {
        "colab": {
          "base_uri": "https://localhost:8080/"
        },
        "id": "m0sqo3s7fqlJ",
        "outputId": "c17ad4ee-8c28-4427-d735-d3e1789c2e84"
      },
      "source": [
        "'singara' in myfood"
      ],
      "execution_count": null,
      "outputs": [
        {
          "data": {
            "text/plain": [
              "False"
            ]
          },
          "execution_count": 9,
          "metadata": {},
          "output_type": "execute_result"
        }
      ]
    },
    {
      "cell_type": "code",
      "metadata": {
        "colab": {
          "base_uri": "https://localhost:8080/",
          "height": 35
        },
        "id": "5XXwwEhRf1rZ",
        "outputId": "d0af45e8-3b21-4a7b-81c8-cce437bfa31a"
      },
      "source": [
        "\n",
        "myfood.replace('samosa','biryani')"
      ],
      "execution_count": null,
      "outputs": [
        {
          "data": {
            "application/vnd.google.colaboratory.intrinsic+json": {
              "type": "string"
            },
            "text/plain": [
              "'biryani,jalebi'"
            ]
          },
          "execution_count": 10,
          "metadata": {},
          "output_type": "execute_result"
        }
      ]
    },
    {
      "cell_type": "code",
      "metadata": {
        "colab": {
          "base_uri": "https://localhost:8080/",
          "height": 35
        },
        "id": "gyYCya5-gPQY",
        "outputId": "1c548380-4c0a-4358-9cac-382584cb3119"
      },
      "source": [
        "myfood"
      ],
      "execution_count": null,
      "outputs": [
        {
          "data": {
            "application/vnd.google.colaboratory.intrinsic+json": {
              "type": "string"
            },
            "text/plain": [
              "'samosa,jalebi'"
            ]
          },
          "execution_count": 11,
          "metadata": {},
          "output_type": "execute_result"
        }
      ]
    },
    {
      "cell_type": "code",
      "metadata": {
        "colab": {
          "base_uri": "https://localhost:8080/",
          "height": 35
        },
        "id": "sKDjiu9kiPXW",
        "outputId": "90d205f3-d6a5-4a5e-f8ef-6d23d1f71998"
      },
      "source": [
        "myfood=myfood.replace('samosa','biryani')\n",
        "myfood"
      ],
      "execution_count": null,
      "outputs": [
        {
          "data": {
            "application/vnd.google.colaboratory.intrinsic+json": {
              "type": "string"
            },
            "text/plain": [
              "'biryani,jalebi'"
            ]
          },
          "execution_count": 12,
          "metadata": {},
          "output_type": "execute_result"
        }
      ]
    },
    {
      "cell_type": "code",
      "metadata": {
        "colab": {
          "base_uri": "https://localhost:8080/",
          "height": 35
        },
        "id": "6zwKMnZKiYYy",
        "outputId": "8544698c-658e-4fad-8614-3504c11e0184"
      },
      "source": [
        "myfood.upper()"
      ],
      "execution_count": null,
      "outputs": [
        {
          "data": {
            "application/vnd.google.colaboratory.intrinsic+json": {
              "type": "string"
            },
            "text/plain": [
              "'BIRYANI,JALEBI'"
            ]
          },
          "execution_count": 13,
          "metadata": {},
          "output_type": "execute_result"
        }
      ]
    },
    {
      "cell_type": "code",
      "metadata": {
        "colab": {
          "base_uri": "https://localhost:8080/"
        },
        "id": "KxL0xUlMidGB",
        "outputId": "58f031e0-56c8-42e4-c539-f97510d19f46"
      },
      "source": [
        "dir(myfood)"
      ],
      "execution_count": null,
      "outputs": [
        {
          "data": {
            "text/plain": [
              "['__add__',\n",
              " '__class__',\n",
              " '__contains__',\n",
              " '__delattr__',\n",
              " '__dir__',\n",
              " '__doc__',\n",
              " '__eq__',\n",
              " '__format__',\n",
              " '__ge__',\n",
              " '__getattribute__',\n",
              " '__getitem__',\n",
              " '__getnewargs__',\n",
              " '__gt__',\n",
              " '__hash__',\n",
              " '__init__',\n",
              " '__init_subclass__',\n",
              " '__iter__',\n",
              " '__le__',\n",
              " '__len__',\n",
              " '__lt__',\n",
              " '__mod__',\n",
              " '__mul__',\n",
              " '__ne__',\n",
              " '__new__',\n",
              " '__reduce__',\n",
              " '__reduce_ex__',\n",
              " '__repr__',\n",
              " '__rmod__',\n",
              " '__rmul__',\n",
              " '__setattr__',\n",
              " '__sizeof__',\n",
              " '__str__',\n",
              " '__subclasshook__',\n",
              " 'capitalize',\n",
              " 'casefold',\n",
              " 'center',\n",
              " 'count',\n",
              " 'encode',\n",
              " 'endswith',\n",
              " 'expandtabs',\n",
              " 'find',\n",
              " 'format',\n",
              " 'format_map',\n",
              " 'index',\n",
              " 'isalnum',\n",
              " 'isalpha',\n",
              " 'isascii',\n",
              " 'isdecimal',\n",
              " 'isdigit',\n",
              " 'isidentifier',\n",
              " 'islower',\n",
              " 'isnumeric',\n",
              " 'isprintable',\n",
              " 'isspace',\n",
              " 'istitle',\n",
              " 'isupper',\n",
              " 'join',\n",
              " 'ljust',\n",
              " 'lower',\n",
              " 'lstrip',\n",
              " 'maketrans',\n",
              " 'partition',\n",
              " 'replace',\n",
              " 'rfind',\n",
              " 'rindex',\n",
              " 'rjust',\n",
              " 'rpartition',\n",
              " 'rsplit',\n",
              " 'rstrip',\n",
              " 'split',\n",
              " 'splitlines',\n",
              " 'startswith',\n",
              " 'strip',\n",
              " 'swapcase',\n",
              " 'title',\n",
              " 'translate',\n",
              " 'upper',\n",
              " 'zfill']"
            ]
          },
          "execution_count": 14,
          "metadata": {},
          "output_type": "execute_result"
        }
      ]
    },
    {
      "cell_type": "code",
      "metadata": {
        "id": "gwlGnjK_i3Xx"
      },
      "source": [
        "\n",
        "dialog='''kitne aadami the?\n",
        "sardar: do'''"
      ],
      "execution_count": null,
      "outputs": []
    },
    {
      "cell_type": "code",
      "metadata": {
        "colab": {
          "base_uri": "https://localhost:8080/",
          "height": 35
        },
        "id": "AVKFbBufjFIg",
        "outputId": "7b19a525-9911-425e-ac20-037ccfcccf6b"
      },
      "source": [
        "dialog"
      ],
      "execution_count": null,
      "outputs": [
        {
          "data": {
            "application/vnd.google.colaboratory.intrinsic+json": {
              "type": "string"
            },
            "text/plain": [
              "'kitne aadami the?\\nsardar: do'"
            ]
          },
          "execution_count": 17,
          "metadata": {},
          "output_type": "execute_result"
        }
      ]
    },
    {
      "cell_type": "code",
      "metadata": {
        "colab": {
          "base_uri": "https://localhost:8080/"
        },
        "id": "WxtIlPl3jHDv",
        "outputId": "bc5fd128-6ca3-4a95-f9d0-d6b8f4b1b463"
      },
      "source": [
        "s='hey\\nbro'\n",
        "print(s)"
      ],
      "execution_count": null,
      "outputs": [
        {
          "name": "stdout",
          "output_type": "stream",
          "text": [
            "hey\n",
            "bro\n"
          ]
        }
      ]
    },
    {
      "cell_type": "code",
      "metadata": {
        "colab": {
          "base_uri": "https://localhost:8080/"
        },
        "id": "eRTYoaF1jJmi",
        "outputId": "d5b1f437-436a-4af9-cffe-819eefbf474e"
      },
      "source": [
        "first='Shakib Al'\n",
        "last='Hasan'\n",
        "print('The best cricket player:',first + ' ' + last)"
      ],
      "execution_count": null,
      "outputs": [
        {
          "name": "stdout",
          "output_type": "stream",
          "text": [
            "The best cricket player: Shakib Al Hasan\n"
          ]
        }
      ]
    },
    {
      "cell_type": "code",
      "metadata": {
        "colab": {
          "base_uri": "https://localhost:8080/"
        },
        "id": "ip_8C-ZxjODZ",
        "outputId": "255d6670-39f5-4a85-fa30-34b0bd6ed26a"
      },
      "source": [
        "\n",
        "print(f'The best cricket player {first} {last}')"
      ],
      "execution_count": null,
      "outputs": [
        {
          "name": "stdout",
          "output_type": "stream",
          "text": [
            "The best cricket player Shakib Al Hasan\n"
          ]
        }
      ]
    },
    {
      "cell_type": "markdown",
      "metadata": {
        "id": "6Re_4iUbjfXx"
      },
      "source": [
        "**User Input**"
      ]
    },
    {
      "cell_type": "code",
      "metadata": {
        "colab": {
          "base_uri": "https://localhost:8080/"
        },
        "id": "oJSTjPBTjYMc",
        "outputId": "99950a42-4537-44cf-d6da-6e6865537432"
      },
      "source": [
        "n1=input(\"Enter first number\")\n",
        "n2=input(\"Enter second number\")\n",
        "sum=float(n1)+float(n2)\n",
        "print(\"Sum is:\",sum)"
      ],
      "execution_count": null,
      "outputs": [
        {
          "name": "stdout",
          "output_type": "stream",
          "text": [
            "Enter first number45\n",
            "Enter second number56\n",
            "Sum is: 101.0\n"
          ]
        }
      ]
    },
    {
      "cell_type": "markdown",
      "metadata": {
        "id": "w6bVuOuKj0p3"
      },
      "source": [
        "**List**"
      ]
    },
    {
      "cell_type": "code",
      "metadata": {
        "colab": {
          "base_uri": "https://localhost:8080/"
        },
        "id": "Op44gtX0jlSp",
        "outputId": "f3f2dc65-6260-4039-a0bc-c3ebd190769d"
      },
      "source": [
        "mithai=['halva','kheer','jalebi','gulab jamun']\n",
        "mithai"
      ],
      "execution_count": null,
      "outputs": [
        {
          "data": {
            "text/plain": [
              "['halva', 'kheer', 'jalebi', 'gulab jamun']"
            ]
          },
          "execution_count": 23,
          "metadata": {},
          "output_type": "execute_result"
        }
      ]
    },
    {
      "cell_type": "code",
      "metadata": {
        "colab": {
          "base_uri": "https://localhost:8080/"
        },
        "id": "Mott6_1vlKhZ",
        "outputId": "e16ecde0-ffe6-45f4-cd92-3a23d4c5f190"
      },
      "source": [
        "type(mithai)"
      ],
      "execution_count": null,
      "outputs": [
        {
          "data": {
            "text/plain": [
              "list"
            ]
          },
          "execution_count": 24,
          "metadata": {},
          "output_type": "execute_result"
        }
      ]
    },
    {
      "cell_type": "code",
      "metadata": {
        "colab": {
          "base_uri": "https://localhost:8080/",
          "height": 35
        },
        "id": "Yk6BGGs4lN7x",
        "outputId": "df4b6d93-96ed-41fa-8663-cd9a43ce45fe"
      },
      "source": [
        "mithai[3]"
      ],
      "execution_count": null,
      "outputs": [
        {
          "data": {
            "application/vnd.google.colaboratory.intrinsic+json": {
              "type": "string"
            },
            "text/plain": [
              "'gulab jamun'"
            ]
          },
          "execution_count": 25,
          "metadata": {},
          "output_type": "execute_result"
        }
      ]
    },
    {
      "cell_type": "code",
      "metadata": {
        "colab": {
          "base_uri": "https://localhost:8080/"
        },
        "id": "kA3jXFPulkEc",
        "outputId": "cc8b7dcf-03dd-4c6f-e876-46b04aa37733"
      },
      "source": [
        "\n",
        "mithai[1:3]"
      ],
      "execution_count": null,
      "outputs": [
        {
          "data": {
            "text/plain": [
              "['kheer', 'jalebi']"
            ]
          },
          "execution_count": 26,
          "metadata": {},
          "output_type": "execute_result"
        }
      ]
    },
    {
      "cell_type": "code",
      "metadata": {
        "colab": {
          "base_uri": "https://localhost:8080/"
        },
        "id": "mq7TNEcDlog1",
        "outputId": "8e13c39a-6811-4f8e-cb7a-580121c7be04"
      },
      "source": [
        "mithai[-4:]"
      ],
      "execution_count": null,
      "outputs": [
        {
          "data": {
            "text/plain": [
              "['halva', 'kheer', 'jalebi', 'gulab jamun']"
            ]
          },
          "execution_count": 27,
          "metadata": {},
          "output_type": "execute_result"
        }
      ]
    },
    {
      "cell_type": "code",
      "metadata": {
        "colab": {
          "base_uri": "https://localhost:8080/"
        },
        "id": "DvIMZez5lrkB",
        "outputId": "6fb2ce54-a46e-4299-a647-8b2e10d0316d"
      },
      "source": [
        "len(mithai)"
      ],
      "execution_count": null,
      "outputs": [
        {
          "data": {
            "text/plain": [
              "4"
            ]
          },
          "execution_count": 28,
          "metadata": {},
          "output_type": "execute_result"
        }
      ]
    },
    {
      "cell_type": "code",
      "metadata": {
        "colab": {
          "base_uri": "https://localhost:8080/"
        },
        "id": "wDWvP62YluVw",
        "outputId": "d850330b-45a3-48fd-bfb2-67770d3c55e8"
      },
      "source": [
        "'singara' in  mithai"
      ],
      "execution_count": null,
      "outputs": [
        {
          "data": {
            "text/plain": [
              "False"
            ]
          },
          "execution_count": 29,
          "metadata": {},
          "output_type": "execute_result"
        }
      ]
    },
    {
      "cell_type": "code",
      "metadata": {
        "colab": {
          "base_uri": "https://localhost:8080/"
        },
        "id": "7BMipC2Llx9w",
        "outputId": "45250b81-7ec2-44ea-8d1d-07a58f4223d8"
      },
      "source": [
        "starter=['rolls','soup']\n",
        "starter"
      ],
      "execution_count": null,
      "outputs": [
        {
          "data": {
            "text/plain": [
              "['rolls', 'soup']"
            ]
          },
          "execution_count": 30,
          "metadata": {},
          "output_type": "execute_result"
        }
      ]
    },
    {
      "cell_type": "code",
      "metadata": {
        "colab": {
          "base_uri": "https://localhost:8080/"
        },
        "id": "TfEzSLMzl-1Q",
        "outputId": "78526a4b-003c-434d-f857-e3b71351b838"
      },
      "source": [
        "food= starter+mithai\n",
        "food"
      ],
      "execution_count": null,
      "outputs": [
        {
          "data": {
            "text/plain": [
              "['rolls', 'soup', 'halva', 'kheer', 'jalebi', 'gulab jamun']"
            ]
          },
          "execution_count": 32,
          "metadata": {},
          "output_type": "execute_result"
        }
      ]
    },
    {
      "cell_type": "code",
      "metadata": {
        "colab": {
          "base_uri": "https://localhost:8080/"
        },
        "id": "l0Im1WpEmEzX",
        "outputId": "5c350889-2be6-41ef-e7b2-12acb3b7f13e"
      },
      "source": [
        "mithai[0]='peda'\n",
        "mithai"
      ],
      "execution_count": null,
      "outputs": [
        {
          "data": {
            "text/plain": [
              "['peda', 'kheer', 'jalebi', 'gulab jamun']"
            ]
          },
          "execution_count": 33,
          "metadata": {},
          "output_type": "execute_result"
        }
      ]
    },
    {
      "cell_type": "code",
      "metadata": {
        "colab": {
          "base_uri": "https://localhost:8080/"
        },
        "id": "63SSmAckmRYr",
        "outputId": "f09f2957-30b6-4e93-fd08-75045e6552f6"
      },
      "source": [
        "mithai[0:2]=['samosa']\n",
        "mithai"
      ],
      "execution_count": null,
      "outputs": [
        {
          "data": {
            "text/plain": [
              "['samosa', 'jalebi', 'gulab jamun']"
            ]
          },
          "execution_count": 34,
          "metadata": {},
          "output_type": "execute_result"
        }
      ]
    },
    {
      "cell_type": "code",
      "metadata": {
        "colab": {
          "base_uri": "https://localhost:8080/"
        },
        "id": "WJArv2PbmcD-",
        "outputId": "7082b05c-ecfd-4659-8bc5-b0060562fe85"
      },
      "source": [
        "mithai[0:2]=[3,5,6,7,8,9]\n",
        "mithai"
      ],
      "execution_count": null,
      "outputs": [
        {
          "data": {
            "text/plain": [
              "[3, 5, 6, 7, 8, 9, 'gulab jamun']"
            ]
          },
          "execution_count": 35,
          "metadata": {},
          "output_type": "execute_result"
        }
      ]
    },
    {
      "cell_type": "markdown",
      "metadata": {
        "id": "Q9W20lVdm2As"
      },
      "source": [
        "**IF**"
      ]
    },
    {
      "cell_type": "code",
      "metadata": {
        "colab": {
          "base_uri": "https://localhost:8080/"
        },
        "id": "greDdA1Ympeh",
        "outputId": "d60101b5-03fe-4874-9852-c91ce91fc142"
      },
      "source": [
        "\n",
        "n=input(\"Enter a number\")\n",
        "n=int(n)\n",
        "if n%2==0:\n",
        "    print(\"Number is even\")\n",
        "else:\n",
        "    print(\"Number is odd\")"
      ],
      "execution_count": null,
      "outputs": [
        {
          "name": "stdout",
          "output_type": "stream",
          "text": [
            "Enter a number10\n",
            "Number is even\n"
          ]
        }
      ]
    },
    {
      "cell_type": "code",
      "metadata": {
        "colab": {
          "base_uri": "https://localhost:8080/"
        },
        "id": "BPpdh2DOm88m",
        "outputId": "e27bde3d-7845-47dc-e9aa-3b7b33b26d58"
      },
      "source": [
        "indian=[\"samosa\",\"kachori\",\"dal\",\"naan\"]\n",
        "pakistani=[\"nihari\",\"paya\",\"karahi\"]\n",
        "bangladesi=[\"panta bhat\",\"chorchori\",\"fuchka\"]\n",
        "dish=input(\"Enter a dish name:\")\n",
        "\n",
        "if dish in indian:\n",
        "    print(f\"{dish} is Indian\")\n",
        "elif dish in pakistani:\n",
        "    print(f\"{dish} is pakistani\")\n",
        "elif dish in bangladesi:\n",
        "    print(f\"{dish} is bangladesi\")\n",
        "else:\n",
        "    print(f\"Based on my limited knowledge, I don't know which cuisine is {dish}\")\n",
        "\t"
      ],
      "execution_count": null,
      "outputs": [
        {
          "name": "stdout",
          "output_type": "stream",
          "text": [
            "Enter a dish name:dal\n",
            "dal is Indian\n"
          ]
        }
      ]
    },
    {
      "cell_type": "markdown",
      "metadata": {
        "id": "YOHSigzVu6DR"
      },
      "source": [
        "**FOR**"
      ]
    },
    {
      "cell_type": "code",
      "metadata": {
        "colab": {
          "base_uri": "https://localhost:8080/"
        },
        "id": "FT3apBULrftH",
        "outputId": "fc761c7e-f86f-4b8d-92fb-5669cdbbe400"
      },
      "source": [
        "expenses = [1200,1500,1300,1700]\n",
        "total = expenses[0] + expenses[1] + expenses[2] + expenses[3]\n",
        "print(total)\n",
        "total = 0\n",
        "for expense in expenses:\n",
        "    total = total + expense\n",
        "print(total)"
      ],
      "execution_count": null,
      "outputs": [
        {
          "name": "stdout",
          "output_type": "stream",
          "text": [
            "5700\n",
            "5700\n"
          ]
        }
      ]
    },
    {
      "cell_type": "code",
      "metadata": {
        "colab": {
          "base_uri": "https://localhost:8080/"
        },
        "id": "yO_uSCnDvaSQ",
        "outputId": "b97c3800-8fa3-429a-9ae1-36e7a36b115e"
      },
      "source": [
        "print(range(1,11))\n",
        "print(list(range(1,11)))\n",
        "for i in range(1,11):\n",
        "    print(i)\n",
        "\n",
        "# in monthly expense list print month number, expense and then total\n",
        "total = 0\n",
        "for i in range(len(expenses)):\n",
        "    print(f\"Month {i+1}, expense: {expenses[i]}\")\n",
        "    total += expenses[i]\n",
        "print(f\"Total expenses is {total}\")\n",
        "\n",
        "# break\n",
        "key_location=\"chair\"\n",
        "locations = [\"sofa\",\"garage\",\"chair\",\"table\",\"closet\"]\n",
        "for loc in locations:\n",
        "    if loc == key_location:\n",
        "        print(\"Key found at:\",loc)\n",
        "        break\n",
        "    else:\n",
        "        print(\"Key not found in:\",loc)\n",
        "\n",
        "# continue: print odd numbers between 1 to 10\n",
        "for i in range(11):\n",
        "    if i%2==0:\n",
        "        continue\n",
        "    print(i)\n",
        "\n",
        "# while loop\n",
        "num=0\n",
        "while num<=10:\n",
        "    print(num)\n",
        "    num=num+1"
      ],
      "execution_count": null,
      "outputs": [
        {
          "name": "stdout",
          "output_type": "stream",
          "text": [
            "range(1, 11)\n",
            "[1, 2, 3, 4, 5, 6, 7, 8, 9, 10]\n",
            "1\n",
            "2\n",
            "3\n",
            "4\n",
            "5\n",
            "6\n",
            "7\n",
            "8\n",
            "9\n",
            "10\n",
            "Month 1, expense: 1200\n",
            "Month 2, expense: 1500\n",
            "Month 3, expense: 1300\n",
            "Month 4, expense: 1700\n",
            "Total expenses is 5700\n",
            "Key not found in: sofa\n",
            "Key not found in: garage\n",
            "Key found at: chair\n",
            "1\n",
            "3\n",
            "5\n",
            "7\n",
            "9\n",
            "0\n",
            "1\n",
            "2\n",
            "3\n",
            "4\n",
            "5\n",
            "6\n",
            "7\n",
            "8\n",
            "9\n",
            "10\n"
          ]
        }
      ]
    },
    {
      "cell_type": "markdown",
      "metadata": {
        "id": "WsklNtugzZoE"
      },
      "source": [
        "**FUNCTION**"
      ]
    },
    {
      "cell_type": "code",
      "metadata": {
        "colab": {
          "base_uri": "https://localhost:8080/"
        },
        "id": "OyqQgUodwlF2",
        "outputId": "5ae99afc-2f3d-45bf-b5fe-10866809899c"
      },
      "source": [
        "# Calculate expense sum for two lists without function\n",
        "bharat_expenses = [20,30,45]\n",
        "bilal_expenses = [45,67,34]\n",
        "\n",
        "total=0\n",
        "for item in bharat_expenses:\n",
        "    total+=item\n",
        "print(\"Bharat's total:\",total)\n",
        "\n",
        "total=0\n",
        "for item in bilal_expenses:\n",
        "    total+=item\n",
        "print(\"Bilal's total:\",total)"
      ],
      "execution_count": null,
      "outputs": [
        {
          "name": "stdout",
          "output_type": "stream",
          "text": [
            "Bharat's total: 95\n",
            "Bilal's total: 146\n"
          ]
        }
      ]
    },
    {
      "cell_type": "code",
      "metadata": {
        "colab": {
          "base_uri": "https://localhost:8080/"
        },
        "id": "UrLqgAtvznnV",
        "outputId": "403db3e1-ba77-454a-cae0-8675901071af"
      },
      "source": [
        "def find_total(exp):\n",
        "  total=0\n",
        "  for item in exp:\n",
        "    total+=item\n",
        "  return total\n",
        "bharat_total=find_total(bharat_expenses)\n",
        "print(\"Bharat's total:\",bharat_total)"
      ],
      "execution_count": null,
      "outputs": [
        {
          "name": "stdout",
          "output_type": "stream",
          "text": [
            "Bharat's total: 95\n"
          ]
        }
      ]
    },
    {
      "cell_type": "code",
      "metadata": {
        "colab": {
          "base_uri": "https://localhost:8080/"
        },
        "id": "17wAd2r60QW3",
        "outputId": "40031a61-70ed-471e-e916-459962d8c408"
      },
      "source": [
        "# Positional argument vs named arguments\n",
        "def cylinder_volume(radius,height=1):\n",
        "    print(\"radius is:\",radius)\n",
        "    print(\"height is:\",height)\n",
        "    area = 3.14*(radius**2)*height\n",
        "    return area\n",
        "\n",
        "r=5\n",
        "h=10\n",
        "print(cylinder_volume(height=h,radius=r))\n",
        "\n",
        "# default arguments\n",
        "r=5\n",
        "h=10\n",
        "print(cylinder_volume(radius=r))\n"
      ],
      "execution_count": null,
      "outputs": [
        {
          "name": "stdout",
          "output_type": "stream",
          "text": [
            "radius is: 5\n",
            "height is: 10\n",
            "785.0\n",
            "radius is: 5\n",
            "height is: 1\n",
            "78.5\n"
          ]
        }
      ]
    },
    {
      "cell_type": "markdown",
      "metadata": {
        "id": "VNngTUaK1GFd"
      },
      "source": [
        "**MODULES**"
      ]
    },
    {
      "cell_type": "code",
      "metadata": {
        "colab": {
          "base_uri": "https://localhost:8080/"
        },
        "id": "U5hYF59u0qhy",
        "outputId": "117c1655-8193-42de-e866-813a50cb9aca"
      },
      "source": [
        "import math\n",
        "math.sqrt(25)"
      ],
      "execution_count": null,
      "outputs": [
        {
          "data": {
            "text/plain": [
              "5.0"
            ]
          },
          "execution_count": 45,
          "metadata": {},
          "output_type": "execute_result"
        }
      ]
    },
    {
      "cell_type": "code",
      "metadata": {
        "id": "pJGsaRns1PGU"
      },
      "source": [
        "import calendar"
      ],
      "execution_count": null,
      "outputs": []
    },
    {
      "cell_type": "code",
      "metadata": {
        "colab": {
          "base_uri": "https://localhost:8080/"
        },
        "id": "uwEGtqXg1S3C",
        "outputId": "231b6f75-6c98-4b33-e6e0-9ee8b58e580e"
      },
      "source": [
        "dec = calendar.month(2020,12)\n",
        "print(dec)"
      ],
      "execution_count": null,
      "outputs": [
        {
          "name": "stdout",
          "output_type": "stream",
          "text": [
            "   December 2020\n",
            "Mo Tu We Th Fr Sa Su\n",
            "    1  2  3  4  5  6\n",
            " 7  8  9 10 11 12 13\n",
            "14 15 16 17 18 19 20\n",
            "21 22 23 24 25 26 27\n",
            "28 29 30 31\n",
            "\n"
          ]
        }
      ]
    },
    {
      "cell_type": "code",
      "metadata": {
        "colab": {
          "base_uri": "https://localhost:8080/"
        },
        "id": "-QaE4n9g1eMc",
        "outputId": "0b84c5c7-e455-4e9a-f7f0-babf2dc7f6c1"
      },
      "source": [
        "calendar.isleap(2020)"
      ],
      "execution_count": null,
      "outputs": [
        {
          "data": {
            "text/plain": [
              "True"
            ]
          },
          "execution_count": 49,
          "metadata": {},
          "output_type": "execute_result"
        }
      ]
    },
    {
      "cell_type": "code",
      "metadata": {
        "colab": {
          "base_uri": "https://localhost:8080/"
        },
        "id": "W2NoFDuG1m_P",
        "outputId": "e1f10937-3ea9-4772-f559-4c3cf6f83d66"
      },
      "source": [
        "\n",
        "calendar.isleap(2019)"
      ],
      "execution_count": null,
      "outputs": [
        {
          "data": {
            "text/plain": [
              "False"
            ]
          },
          "execution_count": 50,
          "metadata": {},
          "output_type": "execute_result"
        }
      ]
    },
    {
      "cell_type": "markdown",
      "metadata": {
        "id": "qN3cHZsv12sg"
      },
      "source": [
        "**DICT_TUPLE**"
      ]
    },
    {
      "cell_type": "code",
      "metadata": {
        "id": "CDVdTRzn1p5N"
      },
      "source": [
        "captains = {\n",
        "    'india': 'virat',\n",
        "    'bangladesh': 'shakib',\n",
        "    'sri lanka': 'dimuth',\n",
        "}"
      ],
      "execution_count": null,
      "outputs": []
    },
    {
      "cell_type": "code",
      "metadata": {
        "colab": {
          "base_uri": "https://localhost:8080/"
        },
        "id": "-MWgCxEv1_dZ",
        "outputId": "934028b9-4b7f-4daa-ae5b-a6cb745f2348"
      },
      "source": [
        "type(captains)"
      ],
      "execution_count": null,
      "outputs": [
        {
          "data": {
            "text/plain": [
              "dict"
            ]
          },
          "execution_count": 52,
          "metadata": {},
          "output_type": "execute_result"
        }
      ]
    },
    {
      "cell_type": "code",
      "metadata": {
        "colab": {
          "base_uri": "https://localhost:8080/",
          "height": 35
        },
        "id": "NFGOF2xA2B6D",
        "outputId": "9e568e78-9489-4d95-c023-39baa1b9b25a"
      },
      "source": [
        "captains['bangladesh']"
      ],
      "execution_count": null,
      "outputs": [
        {
          "data": {
            "application/vnd.google.colaboratory.intrinsic+json": {
              "type": "string"
            },
            "text/plain": [
              "'shakib'"
            ]
          },
          "execution_count": 54,
          "metadata": {},
          "output_type": "execute_result"
        }
      ]
    },
    {
      "cell_type": "code",
      "metadata": {
        "colab": {
          "base_uri": "https://localhost:8080/"
        },
        "id": "Y7EJRJ2h2kwy",
        "outputId": "a8956d0f-423d-4744-9cac-f63073c59757"
      },
      "source": [
        "captains.keys()"
      ],
      "execution_count": null,
      "outputs": [
        {
          "data": {
            "text/plain": [
              "dict_keys(['india', 'bangladesh', 'sri lanka'])"
            ]
          },
          "execution_count": 55,
          "metadata": {},
          "output_type": "execute_result"
        }
      ]
    },
    {
      "cell_type": "code",
      "metadata": {
        "colab": {
          "base_uri": "https://localhost:8080/"
        },
        "id": "mJhi3vFZ2pts",
        "outputId": "784eed25-fe9c-4130-8c23-a8aebaafcfa3"
      },
      "source": [
        "\n",
        "captains.values()"
      ],
      "execution_count": null,
      "outputs": [
        {
          "data": {
            "text/plain": [
              "dict_values(['virat', 'shakib', 'dimuth'])"
            ]
          },
          "execution_count": 56,
          "metadata": {},
          "output_type": "execute_result"
        }
      ]
    },
    {
      "cell_type": "code",
      "metadata": {
        "colab": {
          "base_uri": "https://localhost:8080/"
        },
        "id": "JMMzh_282sRH",
        "outputId": "a24897b5-86db-45d6-844b-068091244a3e"
      },
      "source": [
        "captains['england']='root'\n",
        "captains"
      ],
      "execution_count": null,
      "outputs": [
        {
          "data": {
            "text/plain": [
              "{'bangladesh': 'shakib',\n",
              " 'england': 'root',\n",
              " 'india': 'virat',\n",
              " 'sri lanka': 'dimuth'}"
            ]
          },
          "execution_count": 57,
          "metadata": {},
          "output_type": "execute_result"
        }
      ]
    },
    {
      "cell_type": "code",
      "metadata": {
        "colab": {
          "base_uri": "https://localhost:8080/"
        },
        "id": "CLB7Ao0f2zkE",
        "outputId": "e478fae1-f115-4e2d-de68-7cddc5329e2e"
      },
      "source": [
        "\n",
        "del captains['england']\n",
        "captains"
      ],
      "execution_count": null,
      "outputs": [
        {
          "data": {
            "text/plain": [
              "{'bangladesh': 'shakib', 'india': 'virat', 'sri lanka': 'dimuth'}"
            ]
          },
          "execution_count": 58,
          "metadata": {},
          "output_type": "execute_result"
        }
      ]
    },
    {
      "cell_type": "code",
      "metadata": {
        "colab": {
          "base_uri": "https://localhost:8080/"
        },
        "id": "2F95UDI424iD",
        "outputId": "e1a8329c-f73e-48cd-8b6a-d9af3bbb0ae2"
      },
      "source": [
        "\n",
        "for team in captains:\n",
        "    print(team)"
      ],
      "execution_count": null,
      "outputs": [
        {
          "name": "stdout",
          "output_type": "stream",
          "text": [
            "india\n",
            "bangladesh\n",
            "sri lanka\n"
          ]
        }
      ]
    },
    {
      "cell_type": "code",
      "metadata": {
        "colab": {
          "base_uri": "https://localhost:8080/"
        },
        "id": "Iyf_04T92_-3",
        "outputId": "2dc276c0-6713-4a88-a5ac-491767a99f31"
      },
      "source": [
        "\n",
        "captains.clear()\n",
        "captains"
      ],
      "execution_count": null,
      "outputs": [
        {
          "data": {
            "text/plain": [
              "{}"
            ]
          },
          "execution_count": 60,
          "metadata": {},
          "output_type": "execute_result"
        }
      ]
    },
    {
      "cell_type": "code",
      "metadata": {
        "colab": {
          "base_uri": "https://localhost:8080/"
        },
        "id": "uMJ7hyL03XGB",
        "outputId": "cd179259-47f5-4382-c51f-a81aa3f863e4"
      },
      "source": [
        "point=(4,10)\n",
        "type(point)"
      ],
      "execution_count": null,
      "outputs": [
        {
          "data": {
            "text/plain": [
              "tuple"
            ]
          },
          "execution_count": 61,
          "metadata": {},
          "output_type": "execute_result"
        }
      ]
    },
    {
      "cell_type": "code",
      "metadata": {
        "colab": {
          "base_uri": "https://localhost:8080/"
        },
        "id": "Wg-ZnxEg3aF-",
        "outputId": "aaa858e9-adfb-45e2-f451-cc1a57f5eb1f"
      },
      "source": [
        "\n",
        "point[0]"
      ],
      "execution_count": null,
      "outputs": [
        {
          "data": {
            "text/plain": [
              "4"
            ]
          },
          "execution_count": 62,
          "metadata": {},
          "output_type": "execute_result"
        }
      ]
    },
    {
      "cell_type": "code",
      "metadata": {
        "id": "bp9_XHtL3dZN"
      },
      "source": [
        "def add_multiply(a,b):\n",
        "    total = a+b\n",
        "    m = a*b\n",
        "    return total, m"
      ],
      "execution_count": null,
      "outputs": []
    },
    {
      "cell_type": "code",
      "metadata": {
        "id": "KFuiU00I3lYG"
      },
      "source": [
        "s, m = add_multiply(4,5)"
      ],
      "execution_count": null,
      "outputs": []
    },
    {
      "cell_type": "code",
      "metadata": {
        "colab": {
          "base_uri": "https://localhost:8080/"
        },
        "id": "YwNVSNA23nsH",
        "outputId": "aae90530-858b-4989-c07a-7a822a08097d"
      },
      "source": [
        "s"
      ],
      "execution_count": null,
      "outputs": [
        {
          "data": {
            "text/plain": [
              "9"
            ]
          },
          "execution_count": 65,
          "metadata": {},
          "output_type": "execute_result"
        }
      ]
    },
    {
      "cell_type": "code",
      "metadata": {
        "colab": {
          "base_uri": "https://localhost:8080/"
        },
        "id": "sW_PyZCw3qLx",
        "outputId": "e02f011e-235a-461c-b6a5-89cbeae94ea1"
      },
      "source": [
        "m"
      ],
      "execution_count": null,
      "outputs": [
        {
          "data": {
            "text/plain": [
              "20"
            ]
          },
          "execution_count": 66,
          "metadata": {},
          "output_type": "execute_result"
        }
      ]
    },
    {
      "cell_type": "markdown",
      "metadata": {
        "id": "f1WiO7CkaZUp"
      },
      "source": [
        ""
      ]
    },
    {
      "cell_type": "markdown",
      "metadata": {
        "id": "OtI7qVELaXgN"
      },
      "source": [
        "# New Section"
      ]
    },
    {
      "cell_type": "markdown",
      "metadata": {
        "id": "t-_3Jj7vakMf"
      },
      "source": [
        "**DATA STRUCTURES ALGORITHMS**"
      ]
    },
    {
      "cell_type": "markdown",
      "metadata": {
        "id": "6LyI3qvfaymM"
      },
      "source": [
        "WEEK(3-5)"
      ]
    },
    {
      "cell_type": "code",
      "metadata": {
        "colab": {
          "base_uri": "https://localhost:8080/"
        },
        "id": "jHSoxIL4auQv",
        "outputId": "9c558095-3926-4798-db50-fa1e563b2da2"
      },
      "source": [
        "expense=[2200,2350,2600,2130,2190]\n",
        "print(\"Extra spent:\" ,expense[1]-expense[0])  #a"
      ],
      "execution_count": null,
      "outputs": [
        {
          "name": "stdout",
          "output_type": "stream",
          "text": [
            "Extra spent: 150\n"
          ]
        }
      ]
    },
    {
      "cell_type": "code",
      "metadata": {
        "colab": {
          "base_uri": "https://localhost:8080/"
        },
        "id": "b8CE4oSrctLU",
        "outputId": "ca4bf248-80d7-4657-80c4-a8cdc4804f9b"
      },
      "source": [
        "print(\"Expense in the first quarter of the year:\", expense[0]+expense[1]+expense[2]) #b"
      ],
      "execution_count": null,
      "outputs": [
        {
          "name": "stdout",
          "output_type": "stream",
          "text": [
            "Expense in the first quarter of the year: 7150\n"
          ]
        }
      ]
    },
    {
      "cell_type": "code",
      "metadata": {
        "colab": {
          "base_uri": "https://localhost:8080/"
        },
        "id": "cHBAabe4dSkf",
        "outputId": "94ed8be3-0c65-490a-ff74-3ea39444b9aa"
      },
      "source": [
        "2000 in expense#c"
      ],
      "execution_count": null,
      "outputs": [
        {
          "data": {
            "text/plain": [
              "False"
            ]
          },
          "execution_count": 5,
          "metadata": {},
          "output_type": "execute_result"
        }
      ]
    },
    {
      "cell_type": "code",
      "metadata": {
        "colab": {
          "base_uri": "https://localhost:8080/"
        },
        "id": "eHPSy4LBda2l",
        "outputId": "fde42c18-05eb-40e1-feeb-5c4b50f15a90"
      },
      "source": [
        "expense.append(1980)\n",
        "print(\"expense after June:\",expense)#d"
      ],
      "execution_count": null,
      "outputs": [
        {
          "name": "stdout",
          "output_type": "stream",
          "text": [
            "expense after June: [2200, 2350, 2600, 2130, 2190, 1980]\n"
          ]
        }
      ]
    },
    {
      "cell_type": "code",
      "metadata": {
        "colab": {
          "base_uri": "https://localhost:8080/"
        },
        "id": "x4hbE9oxdxI2",
        "outputId": "e203f483-cef0-4705-c23b-d087d3d571b6"
      },
      "source": [
        "expense[3]=expense[3]-200\n",
        "print(\"Monthly expense:\", expense) #e"
      ],
      "execution_count": null,
      "outputs": [
        {
          "name": "stdout",
          "output_type": "stream",
          "text": [
            "Monthly expense: [2200, 2350, 2600, 1930, 2190, 1980]\n"
          ]
        }
      ]
    },
    {
      "cell_type": "code",
      "metadata": {
        "colab": {
          "base_uri": "https://localhost:8080/"
        },
        "id": "UTJHmv5ied6Y",
        "outputId": "6e6a8804-e408-4db8-9fb5-dcee206c64a8"
      },
      "source": [
        "heros=['spider man','thor','hulk','iron man','captain america']\n",
        "print(len(heros))  #a"
      ],
      "execution_count": null,
      "outputs": [
        {
          "name": "stdout",
          "output_type": "stream",
          "text": [
            "5\n"
          ]
        }
      ]
    },
    {
      "cell_type": "code",
      "metadata": {
        "colab": {
          "base_uri": "https://localhost:8080/"
        },
        "id": "LlH07oXQevl4",
        "outputId": "8663db57-5c5a-4027-f3a0-bc305234f315"
      },
      "source": [
        "heros.append('black panther')\n",
        "print(heros) #b"
      ],
      "execution_count": null,
      "outputs": [
        {
          "name": "stdout",
          "output_type": "stream",
          "text": [
            "['spider man', 'thor', 'hulk', 'iron man', 'captain america', 'black panther', 'black panther', 'black panther']\n"
          ]
        }
      ]
    },
    {
      "cell_type": "code",
      "metadata": {
        "colab": {
          "base_uri": "https://localhost:8080/"
        },
        "id": "UlWbTFiAe6zN",
        "outputId": "eb7debef-738e-44f2-ded4-b175550bf487"
      },
      "source": [
        "heros.remove('black panther')\n",
        "heros.insert(3,'black panther')\n",
        "print(heros) #c"
      ],
      "execution_count": null,
      "outputs": [
        {
          "name": "stdout",
          "output_type": "stream",
          "text": [
            "['spider man', 'thor', 'hulk', 'black panther', 'iron man', 'captain america', 'black panther', 'black panther']\n"
          ]
        }
      ]
    },
    {
      "cell_type": "code",
      "metadata": {
        "colab": {
          "base_uri": "https://localhost:8080/"
        },
        "id": "3iYn2ZsefkqB",
        "outputId": "008ff4bb-a675-4d17-e8ff-95c9f92e9ce3"
      },
      "source": [
        "heros[1:3]= ['doctor strange']\n",
        "print(heros)"
      ],
      "execution_count": null,
      "outputs": [
        {
          "name": "stdout",
          "output_type": "stream",
          "text": [
            "['spider man', 'doctor strange', 'black panther', 'iron man', 'captain america', 'black panther', 'black panther']\n"
          ]
        }
      ]
    },
    {
      "cell_type": "code",
      "metadata": {
        "colab": {
          "base_uri": "https://localhost:8080/"
        },
        "id": "lGgxQBlDf-zJ",
        "outputId": "d6ac2ee9-58c4-4afe-f4f0-23261a4a9639"
      },
      "source": [
        "heros.sort()\n",
        "print(heros)"
      ],
      "execution_count": null,
      "outputs": [
        {
          "name": "stdout",
          "output_type": "stream",
          "text": [
            "['black panther', 'black panther', 'black panther', 'captain america', 'doctor strange', 'iron man', 'spider man']\n"
          ]
        }
      ]
    },
    {
      "cell_type": "markdown",
      "metadata": {
        "id": "vHtFTMoIhGFG"
      },
      "source": [
        "Create a list of all odd numbers between 1 and a max number. Max number is something you need to take from a user using input() function"
      ]
    },
    {
      "cell_type": "code",
      "metadata": {
        "colab": {
          "base_uri": "https://localhost:8080/"
        },
        "id": "oaOgWQW0gdus",
        "outputId": "a3fd05c0-f0fd-42e9-b6da-9e2ebce70621"
      },
      "source": [
        "max=int(input(\"Enter a number :\"))\n",
        "\n",
        "odd_number =[]\n",
        "for i in range (1,max):\n",
        "  if i%2==1:\n",
        "    odd_number.append(i)\n",
        "print(\"odd numbers:\",odd_number)"
      ],
      "execution_count": null,
      "outputs": [
        {
          "name": "stdout",
          "output_type": "stream",
          "text": [
            "Enter a number :34\n",
            "odd numbers: [1, 3, 5, 7, 9, 11, 13, 15, 17, 19, 21, 23, 25, 27, 29, 31, 33]\n"
          ]
        }
      ]
    },
    {
      "cell_type": "markdown",
      "metadata": {
        "id": "vDXazThrHdoT"
      },
      "source": [
        "Linked List"
      ]
    },
    {
      "cell_type": "code",
      "metadata": {
        "colab": {
          "base_uri": "https://localhost:8080/"
        },
        "id": "UktnawbciFnI",
        "outputId": "f2ecd0a7-5093-42a5-fdd3-eb911fcdf3d6"
      },
      "source": [
        "class Node:\n",
        "    def __init__(self, data=None, next=None):\n",
        "        self.data = data\n",
        "        self.next = next\n",
        "\n",
        "class LinkedList:\n",
        "    def __init__(self):\n",
        "        self.head = None\n",
        "\n",
        "    def print(self):\n",
        "        if self.head is None:\n",
        "            print(\"Linked list is empty\")\n",
        "            return\n",
        "\n",
        "        itr = self.head\n",
        "        llstr = ''\n",
        "        while itr:\n",
        "            llstr += str(itr.data) + ' --> '\n",
        "            itr = itr.next\n",
        "        print(llstr)\n",
        "\n",
        "    def get_length(self):\n",
        "        count = 0\n",
        "        itr = self.head\n",
        "        while itr:\n",
        "            count+=1\n",
        "            itr = itr.next\n",
        "\n",
        "        return count\n",
        "\n",
        "    def insert_at_begining(self, data):\n",
        "        node = Node(data, self.head)\n",
        "        self.head = node\n",
        "\n",
        "    def insert_at_end(self, data):\n",
        "        if self.head is None:\n",
        "            self.head = Node(data, None)\n",
        "            return\n",
        "\n",
        "        itr = self.head\n",
        "\n",
        "        while itr.next:\n",
        "            itr = itr.next\n",
        "\n",
        "        itr.next = Node(data, None)\n",
        "\n",
        "    def insert_at(self, index, data):\n",
        "        if index<0 or index>self.get_length():\n",
        "            raise Exception(\"Invalid Index\")\n",
        "\n",
        "        if index==0:\n",
        "            self.insert_at_begining(data)\n",
        "            return\n",
        "\n",
        "        count = 0\n",
        "        itr = self.head\n",
        "        while itr:\n",
        "            if count == index - 1:\n",
        "                node = Node(data, itr.next)\n",
        "                itr.next = node\n",
        "                break\n",
        "\n",
        "            itr = itr.next\n",
        "            count += 1\n",
        "\n",
        "    def remove_at(self, index):\n",
        "        if index<0 or index>=self.get_length():\n",
        "            raise Exception(\"Invalid Index\")\n",
        "\n",
        "        if index==0:\n",
        "            self.head = self.head.next\n",
        "            return\n",
        "\n",
        "        count = 0\n",
        "        itr = self.head\n",
        "        while itr:\n",
        "            if count == index - 1:\n",
        "                itr.next = itr.next.next\n",
        "                break\n",
        "\n",
        "            itr = itr.next\n",
        "            count+=1\n",
        "\n",
        "    def insert_values(self, data_list):\n",
        "        self.head = None\n",
        "        for data in data_list:\n",
        "            self.insert_at_end(data)\n",
        "\n",
        "\n",
        "    def insert_after_value(self, data_after, data_to_insert):\n",
        "        if self.head is None:\n",
        "            return\n",
        "\n",
        "        if self.head.data==data_after:\n",
        "            self.head.next = Node(data_to_insert,self.head.next)\n",
        "            return\n",
        "\n",
        "        itr = self.head\n",
        "        while itr:\n",
        "            if itr.data == data_after:\n",
        "                itr.next = Node(data_to_insert, itr.next)\n",
        "                break\n",
        "\n",
        "            itr = itr.next\n",
        "\n",
        "    def remove_by_value(self, data):\n",
        "        if self.head is None:\n",
        "            return\n",
        "\n",
        "        if self.head.data == data:\n",
        "            self.head = self.head.next\n",
        "            return\n",
        "\n",
        "        itr = self.head\n",
        "        while itr.next:\n",
        "            if itr.next.data == data:\n",
        "                itr.next = itr.next.next\n",
        "                break\n",
        "            itr = itr.next\n",
        "\n",
        "if __name__ == '__main__':\n",
        "    ll = LinkedList()\n",
        "    ll.insert_values([\"banana\",\"mango\",\"grapes\",\"orange\"])\n",
        "    ll.print()\n",
        "    ll.insert_after_value(\"mango\",\"apple\")\n",
        "    ll.print()\n",
        "    ll.remove_by_value(\"orange\")\n",
        "    ll.print()\n",
        "    ll.remove_by_value(\"figs\")\n",
        "    ll.print()\n",
        "    ll.remove_by_value(\"banana\")\n",
        "    ll.remove_by_value(\"mango\")\n",
        "    ll.remove_by_value(\"apple\")\n",
        "    ll.remove_by_value(\"grapes\")\n",
        "    ll.print()"
      ],
      "execution_count": null,
      "outputs": [
        {
          "name": "stdout",
          "output_type": "stream",
          "text": [
            "banana --> mango --> grapes --> orange --> \n",
            "banana --> mango --> apple --> grapes --> orange --> \n",
            "banana --> mango --> apple --> grapes --> \n",
            "banana --> mango --> apple --> grapes --> \n",
            "Linked list is empty\n"
          ]
        }
      ]
    },
    {
      "cell_type": "markdown",
      "metadata": {
        "id": "7-FaifBoiX1W"
      },
      "source": [
        ""
      ]
    },
    {
      "cell_type": "code",
      "metadata": {
        "id": "xRkhzs-Lp436"
      },
      "source": [
        "from google.colab import files"
      ],
      "execution_count": null,
      "outputs": []
    },
    {
      "cell_type": "code",
      "metadata": {
        "colab": {
          "resources": {
            "http://localhost:8080/nbextensions/google.colab/files.js": {
              "data": "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",
              "headers": [
                [
                  "content-type",
                  "application/javascript"
                ]
              ],
              "ok": true,
              "status": 200,
              "status_text": ""
            }
          },
          "base_uri": "https://localhost:8080/",
          "height": 72
        },
        "id": "nA2iUTSntDAx",
        "outputId": "c9a70b74-b907-4947-dd8e-78264656e35c"
      },
      "source": [
        "uploaded = files.upload()"
      ],
      "execution_count": null,
      "outputs": [
        {
          "data": {
            "text/html": [
              "\n",
              "     <input type=\"file\" id=\"files-17d77ad1-a7fc-434c-b977-4f1c461b2af4\" name=\"files[]\" multiple disabled\n",
              "        style=\"border:none\" />\n",
              "     <output id=\"result-17d77ad1-a7fc-434c-b977-4f1c461b2af4\">\n",
              "      Upload widget is only available when the cell has been executed in the\n",
              "      current browser session. Please rerun this cell to enable.\n",
              "      </output>\n",
              "      <script src=\"/nbextensions/google.colab/files.js\"></script> "
            ],
            "text/plain": [
              "<IPython.core.display.HTML object>"
            ]
          },
          "metadata": {},
          "output_type": "display_data"
        },
        {
          "name": "stdout",
          "output_type": "stream",
          "text": [
            "Saving poem.txt to poem (1).txt\n"
          ]
        }
      ]
    },
    {
      "cell_type": "code",
      "metadata": {
        "colab": {
          "base_uri": "https://localhost:8080/"
        },
        "id": "1exrCCN1tqz4",
        "outputId": "9ba5a259-08b0-4b3f-c6ad-3f16dba3ce8f"
      },
      "source": [
        "uploaded"
      ],
      "execution_count": null,
      "outputs": [
        {
          "data": {
            "text/plain": [
              "{'poem.txt': b'Two roads diverged in a yellow wood,\\r\\nAnd sorry I could not travel both\\r\\nAnd be one traveler, long I stood\\r\\nAnd looked down one as far as I could\\r\\nTo where it bent in the undergrowth;\\r\\n\\r\\nThen took the other, as just as fair,\\r\\nAnd having perhaps the better claim,\\r\\nBecause it was grassy and wanted wear;\\r\\nThough as for that the passing there\\r\\nHad worn them really about the same,\\r\\n\\r\\nAnd both that morning equally lay\\r\\nIn leaves no step had trodden black.\\r\\nOh, I kept the first for another day!\\r\\nYet knowing how way leads on to way,\\r\\nI doubted if I should ever come back.\\r\\n\\r\\nI shall be telling this with a sigh\\r\\nSomewhere ages and ages hence:\\r\\nTwo roads diverged in a wood, and I\\xe2\\x80\\x94\\r\\nI took the one less traveled by,\\r\\nAnd that has made all the difference.'}"
            ]
          },
          "execution_count": 30,
          "metadata": {},
          "output_type": "execute_result"
        }
      ]
    },
    {
      "cell_type": "code",
      "metadata": {
        "colab": {
          "base_uri": "https://localhost:8080/"
        },
        "id": "7mVaxXmut5P6",
        "outputId": "85dd4d98-6399-4e6b-e73a-d52244a10db1"
      },
      "source": [
        "print(uploaded)"
      ],
      "execution_count": null,
      "outputs": [
        {
          "name": "stdout",
          "output_type": "stream",
          "text": [
            "{'poem.txt': b'Two roads diverged in a yellow wood,\\r\\nAnd sorry I could not travel both\\r\\nAnd be one traveler, long I stood\\r\\nAnd looked down one as far as I could\\r\\nTo where it bent in the undergrowth;\\r\\n\\r\\nThen took the other, as just as fair,\\r\\nAnd having perhaps the better claim,\\r\\nBecause it was grassy and wanted wear;\\r\\nThough as for that the passing there\\r\\nHad worn them really about the same,\\r\\n\\r\\nAnd both that morning equally lay\\r\\nIn leaves no step had trodden black.\\r\\nOh, I kept the first for another day!\\r\\nYet knowing how way leads on to way,\\r\\nI doubted if I should ever come back.\\r\\n\\r\\nI shall be telling this with a sigh\\r\\nSomewhere ages and ages hence:\\r\\nTwo roads diverged in a wood, and I\\xe2\\x80\\x94\\r\\nI took the one less traveled by,\\r\\nAnd that has made all the difference.'}\n"
          ]
        }
      ]
    },
    {
      "cell_type": "code",
      "metadata": {
        "id": "Fanuc3pGudM8"
      },
      "source": [
        "word_count = {}\n",
        "with open(\"poem.txt\",\"r\") as f:\n",
        "    for line in f:\n",
        "        tokens = line.split(' ')\n",
        "        for token in tokens:\n",
        "            token=token.replace('\\n','')\n",
        "            if token in word_count:\n",
        "                word_count[token]+=1\n",
        "            else:\n",
        "                word_count[token]=1"
      ],
      "execution_count": null,
      "outputs": []
    },
    {
      "cell_type": "code",
      "metadata": {
        "colab": {
          "base_uri": "https://localhost:8080/"
        },
        "id": "gEOwi2sWuvkh",
        "outputId": "a8ae6278-37fb-4c02-fec4-c55ad35734f5"
      },
      "source": [
        "\n",
        "word_count"
      ],
      "execution_count": null,
      "outputs": [
        {
          "data": {
            "text/plain": [
              "{'': 3,\n",
              " 'And': 6,\n",
              " 'Because': 1,\n",
              " 'Had': 1,\n",
              " 'I': 8,\n",
              " 'In': 1,\n",
              " 'I—': 1,\n",
              " 'Oh,': 1,\n",
              " 'Somewhere': 1,\n",
              " 'Then': 1,\n",
              " 'Though': 1,\n",
              " 'To': 1,\n",
              " 'Two': 2,\n",
              " 'Yet': 1,\n",
              " 'a': 3,\n",
              " 'about': 1,\n",
              " 'ages': 2,\n",
              " 'all': 1,\n",
              " 'and': 3,\n",
              " 'another': 1,\n",
              " 'as': 5,\n",
              " 'back.': 1,\n",
              " 'be': 2,\n",
              " 'bent': 1,\n",
              " 'better': 1,\n",
              " 'black.': 1,\n",
              " 'both': 2,\n",
              " 'by,': 1,\n",
              " 'claim,': 1,\n",
              " 'come': 1,\n",
              " 'could': 2,\n",
              " 'day!': 1,\n",
              " 'difference.': 1,\n",
              " 'diverged': 2,\n",
              " 'doubted': 1,\n",
              " 'down': 1,\n",
              " 'equally': 1,\n",
              " 'ever': 1,\n",
              " 'fair,': 1,\n",
              " 'far': 1,\n",
              " 'first': 1,\n",
              " 'for': 2,\n",
              " 'grassy': 1,\n",
              " 'had': 1,\n",
              " 'has': 1,\n",
              " 'having': 1,\n",
              " 'hence:': 1,\n",
              " 'how': 1,\n",
              " 'if': 1,\n",
              " 'in': 3,\n",
              " 'it': 2,\n",
              " 'just': 1,\n",
              " 'kept': 1,\n",
              " 'knowing': 1,\n",
              " 'lay': 1,\n",
              " 'leads': 1,\n",
              " 'leaves': 1,\n",
              " 'less': 1,\n",
              " 'long': 1,\n",
              " 'looked': 1,\n",
              " 'made': 1,\n",
              " 'morning': 1,\n",
              " 'no': 1,\n",
              " 'not': 1,\n",
              " 'on': 1,\n",
              " 'one': 3,\n",
              " 'other,': 1,\n",
              " 'passing': 1,\n",
              " 'perhaps': 1,\n",
              " 'really': 1,\n",
              " 'roads': 2,\n",
              " 'same,': 1,\n",
              " 'shall': 1,\n",
              " 'should': 1,\n",
              " 'sigh': 1,\n",
              " 'sorry': 1,\n",
              " 'step': 1,\n",
              " 'stood': 1,\n",
              " 'telling': 1,\n",
              " 'that': 3,\n",
              " 'the': 8,\n",
              " 'them': 1,\n",
              " 'there': 1,\n",
              " 'this': 1,\n",
              " 'to': 1,\n",
              " 'took': 2,\n",
              " 'travel': 1,\n",
              " 'traveled': 1,\n",
              " 'traveler,': 1,\n",
              " 'trodden': 1,\n",
              " 'undergrowth;': 1,\n",
              " 'wanted': 1,\n",
              " 'was': 1,\n",
              " 'way': 1,\n",
              " 'way,': 1,\n",
              " 'wear;': 1,\n",
              " 'where': 1,\n",
              " 'with': 1,\n",
              " 'wood,': 2,\n",
              " 'worn': 1,\n",
              " 'yellow': 1}"
            ]
          },
          "execution_count": 33,
          "metadata": {},
          "output_type": "execute_result"
        }
      ]
    },
    {
      "cell_type": "markdown",
      "metadata": {
        "id": "9IKdYPFO1imj"
      },
      "source": [
        "Implement hash table where collisions are handled using linear probing. We learnt about linear probing in the video tutorial. Take the hash table implementation that uses chaining and modify methods to use linear probing. Keep MAX size of arr in hashtable as 10."
      ]
    },
    {
      "cell_type": "code",
      "metadata": {
        "id": "UQ_FZywAu3P6"
      },
      "source": [
        "class HashTable:  \n",
        "    def __init__(self):\n",
        "        self.MAX = 10 # I am keeping size very low to demonstrate linear probing easily but usually the size should be high\n",
        "        self.arr = [None for i in range(self.MAX)]\n",
        "        \n",
        "    def get_hash(self, key):\n",
        "        hash = 0\n",
        "        for char in key:\n",
        "            hash += ord(char)\n",
        "        return hash % self.MAX\n",
        "    \n",
        "    def __getitem__(self, key):\n",
        "        h = self.get_hash(key)\n",
        "        if self.arr[h] is None:\n",
        "            return\n",
        "        prob_range = self.get_prob_range(h)\n",
        "        for prob_index in prob_range:\n",
        "            element = self.arr[prob_index]\n",
        "            if element is None:\n",
        "                return\n",
        "            if element[0] == key:\n",
        "                return element[1]\n",
        "           \n",
        "    def __setitem__(self, key, val):\n",
        "        h = self.get_hash(key)\n",
        "        if self.arr[h] is None:\n",
        "            self.arr[h] = (key,val)\n",
        "        else:\n",
        "            new_h = self.find_slot(key, h)\n",
        "            self.arr[new_h] = (key,val)\n",
        "        print(self.arr)\n",
        "        \n",
        "    def get_prob_range(self, index):\n",
        "        return [*range(index, len(self.arr))] + [*range(0,index)]\n",
        "    \n",
        "    def find_slot(self, key, index):\n",
        "        prob_range = self.get_prob_range(index)\n",
        "        for prob_index in prob_range:\n",
        "            if self.arr[prob_index] is None:\n",
        "                return prob_index\n",
        "            if self.arr[prob_index][0] == key:\n",
        "                return prob_index\n",
        "        raise Exception(\"Hashmap full\")\n",
        "        \n",
        "    def __delitem__(self, key):\n",
        "        h = self.get_hash(key)\n",
        "        prob_range = self.get_prob_range(h)\n",
        "        for prob_index in prob_range:\n",
        "            if self.arr[prob_index] is None:\n",
        "                return # item not found so return. You can also throw exception\n",
        "            if self.arr[prob_index][0] == key:\n",
        "                self.arr[prob_index]=None\n",
        "        print(self.arr)"
      ],
      "execution_count": null,
      "outputs": []
    },
    {
      "cell_type": "code",
      "metadata": {
        "colab": {
          "base_uri": "https://localhost:8080/"
        },
        "id": "XdcWka8A6lVy",
        "outputId": "0d54e25b-1186-40a8-c99c-ec1a8b75882f"
      },
      "source": [
        "t = HashTable()\n",
        "t[\"march 6\"] = 20\n",
        "t[\"march 17\"] =  88"
      ],
      "execution_count": null,
      "outputs": [
        {
          "name": "stdout",
          "output_type": "stream",
          "text": [
            "[None, None, None, None, None, None, None, None, None, ('march 6', 20)]\n",
            "[('march 17', 88), None, None, None, None, None, None, None, None, ('march 6', 20)]\n"
          ]
        }
      ]
    },
    {
      "cell_type": "code",
      "metadata": {
        "colab": {
          "base_uri": "https://localhost:8080/"
        },
        "id": "esLAycYT60tR",
        "outputId": "5482244c-ed58-4e3b-a4b6-2c295e902af8"
      },
      "source": [
        "t[\"april 1\"]=87"
      ],
      "execution_count": null,
      "outputs": [
        {
          "name": "stdout",
          "output_type": "stream",
          "text": [
            "[('march 17', 88), None, None, None, None, None, None, ('april 1', 87), None, ('march 6', 20)]\n"
          ]
        }
      ]
    },
    {
      "cell_type": "code",
      "metadata": {
        "colab": {
          "base_uri": "https://localhost:8080/"
        },
        "id": "E_3IZaNp7DOl",
        "outputId": "d12c1bd3-ac22-4cf1-e7ec-ebfb35f86bec"
      },
      "source": [
        "\n",
        "t[\"april 2\"]=123"
      ],
      "execution_count": null,
      "outputs": [
        {
          "name": "stdout",
          "output_type": "stream",
          "text": [
            "[('march 17', 88), None, None, None, None, None, None, ('april 1', 87), ('april 2', 123), ('march 6', 20)]\n"
          ]
        }
      ]
    },
    {
      "cell_type": "code",
      "metadata": {
        "colab": {
          "base_uri": "https://localhost:8080/"
        },
        "id": "2xpsdfiT7Ff7",
        "outputId": "409511bf-e02c-474f-f4f2-85f2f724a72a"
      },
      "source": [
        "\n",
        "t[\"april 3\"]=234234"
      ],
      "execution_count": null,
      "outputs": [
        {
          "name": "stdout",
          "output_type": "stream",
          "text": [
            "[('march 17', 88), ('april 3', 234234), None, None, None, None, None, ('april 1', 87), ('april 2', 123), ('march 6', 20)]\n"
          ]
        }
      ]
    },
    {
      "cell_type": "code",
      "metadata": {
        "colab": {
          "base_uri": "https://localhost:8080/"
        },
        "id": "JyA1wDFg7HdB",
        "outputId": "fea1fc88-be60-4b59-e113-9c187ceef57d"
      },
      "source": [
        "t[\"april 4\"]=91"
      ],
      "execution_count": null,
      "outputs": [
        {
          "name": "stdout",
          "output_type": "stream",
          "text": [
            "[('march 17', 88), ('april 3', 234234), ('april 4', 91), None, None, None, None, ('april 1', 87), ('april 2', 123), ('march 6', 20)]\n"
          ]
        }
      ]
    },
    {
      "cell_type": "code",
      "metadata": {
        "id": "3rB9pa7R7JP0"
      },
      "source": [
        ""
      ],
      "execution_count": null,
      "outputs": []
    },
    {
      "cell_type": "markdown",
      "metadata": {
        "id": "aUTv4kUfMpBV"
      },
      "source": [
        ""
      ]
    },
    {
      "cell_type": "markdown",
      "metadata": {
        "id": "zYu92hh3Mq2v"
      },
      "source": [
        "# STACK"
      ]
    },
    {
      "cell_type": "code",
      "metadata": {
        "colab": {
          "base_uri": "https://localhost:8080/"
        },
        "id": "XQJvzFklMwe-",
        "outputId": "789316b3-5416-454d-ba9a-4d53e66972fa"
      },
      "source": [
        "from collections import deque\n",
        "\n",
        "class Stack:\n",
        "    def __init__(self):\n",
        "        self.container = deque()\n",
        "\n",
        "    def push(self, val):\n",
        "        self.container.append(val)\n",
        "\n",
        "    def pop(self):\n",
        "        return self.container.pop()\n",
        "\n",
        "    def peek(self):\n",
        "        return self.container[-1]\n",
        "\n",
        "    def is_empty(self):\n",
        "        return len(self.container) == 0\n",
        "\n",
        "    def size(self):\n",
        "        return len(self.container)\n",
        "\n",
        "def reverse_string(s):\n",
        "    stack = Stack()\n",
        "\n",
        "    for ch in s:\n",
        "        stack.push(ch)\n",
        "\n",
        "    rstr = ''\n",
        "    while stack.size()!=0:\n",
        "        rstr += stack.pop()\n",
        "\n",
        "    return rstr\n",
        "\n",
        "\n",
        "if __name__ == '__main__':\n",
        "    print(reverse_string(\"We will conquere COVI-19\"))\n",
        "    print(reverse_string(\"I am the king\"))\n",
        "\n",
        "  "
      ],
      "execution_count": null,
      "outputs": [
        {
          "name": "stdout",
          "output_type": "stream",
          "text": [
            "91-IVOC ereuqnoc lliw eW\n",
            "gnik eht ma I\n"
          ]
        }
      ]
    },
    {
      "cell_type": "markdown",
      "metadata": {
        "id": "5F4r7R4Lduc_"
      },
      "source": [
        "Write a function in python that checks if paranthesis in the string are balanced or not. Possible parantheses are \"{}',\"()\" or \"[]\". Use Stack class from the tutorial.\n",
        "is_balanced(\"({a+b})\")     --> True\n",
        "is_balanced(\"))((a+b}{\")   --> False\n",
        "is_balanced(\"((a+b))\")     --> True\n",
        "is_balanced(\"))\")          --> False\n",
        "is_balanced(\"[a+b]*(x+2y)*{gg+kk}\") --> True"
      ]
    },
    {
      "cell_type": "code",
      "metadata": {
        "colab": {
          "base_uri": "https://localhost:8080/"
        },
        "id": "2bxLGmn8bO9z",
        "outputId": "c4ae5265-a511-4d4d-c8d9-4f5ca95c2394"
      },
      "source": [
        "from collections import deque\n",
        "\n",
        "class Stack:\n",
        "    def __init__(self):\n",
        "        self.container = deque()\n",
        "\n",
        "    def push(self, val):\n",
        "        self.container.append(val)\n",
        "\n",
        "    def pop(self):\n",
        "        return self.container.pop()\n",
        "\n",
        "    def peek(self):\n",
        "        return self.container[-1]\n",
        "\n",
        "    def is_empty(self):\n",
        "        return len(self.container) == 0\n",
        "\n",
        "    def size(self):\n",
        "        return len(self.container)\n",
        "\n",
        "def is_match(ch1, ch2):\n",
        "    match_dict = {\n",
        "        ')': '(',\n",
        "        ']': '[',\n",
        "        '}': '{'\n",
        "    }\n",
        "    return match_dict[ch1] == ch2\n",
        "\n",
        "\n",
        "def is_balanced(s):\n",
        "    stack = Stack()\n",
        "    for ch in s:\n",
        "        if ch=='(' or ch=='{' or ch == '[':\n",
        "            stack.push(ch)\n",
        "        if ch==')' or ch=='}' or ch == ']':\n",
        "            if stack.size()==0:\n",
        "                return False\n",
        "            if not is_match(ch,stack.pop()):\n",
        "                return False\n",
        "\n",
        "    return stack.size()==0\n",
        "\n",
        "\n",
        "if __name__ == '__main__':\n",
        "    print(is_balanced(\"({a+b})\"))\n",
        "    print(is_balanced(\"))((a+b}{\"))\n",
        "    print(is_balanced(\"((a+b))\"))\n",
        "    print(is_balanced(\"((a+g))\"))\n",
        "    print(is_balanced(\"))\"))\n",
        "    print(is_balanced(\"[a+b]*(x+2y)*{gg+kk}\"))\n"
      ],
      "execution_count": null,
      "outputs": [
        {
          "name": "stdout",
          "output_type": "stream",
          "text": [
            "True\n",
            "False\n",
            "True\n",
            "True\n",
            "False\n",
            "True\n"
          ]
        }
      ]
    },
    {
      "cell_type": "markdown",
      "metadata": {
        "id": "p9SBzoyXIbyE"
      },
      "source": [
        ""
      ]
    },
    {
      "cell_type": "markdown",
      "metadata": {
        "id": "TiOScmF9Icus"
      },
      "source": [
        "# TREE"
      ]
    },
    {
      "cell_type": "code",
      "metadata": {
        "colab": {
          "base_uri": "https://localhost:8080/"
        },
        "id": "yOM-7AQrIhoG",
        "outputId": "187861a8-c056-4dd5-cfc5-9d3082f1e4fa"
      },
      "source": [
        "class TreeNode:\n",
        "    def __init__(self, name, designation):\n",
        "        self.name = name\n",
        "        self.designation = designation\n",
        "        self.children = []\n",
        "        self.parent = None\n",
        "\n",
        "    def get_level(self):\n",
        "        level = 0\n",
        "        p = self.parent\n",
        "        while p:\n",
        "            level += 1\n",
        "            p = p.parent\n",
        "\n",
        "        return level\n",
        "\n",
        "    def print_tree(self, property_name):\n",
        "        if property_name == 'both':\n",
        "            value = self.name + \" (\" + self.designation + \")\"\n",
        "        elif property_name == 'name':\n",
        "            value = self.name\n",
        "        else:\n",
        "            value = self.designation\n",
        "\n",
        "        spaces = ' ' * self.get_level() * 3\n",
        "        prefix = spaces + \"|__\" if self.parent else \"\"\n",
        "        print(prefix + value)\n",
        "        if self.children:\n",
        "            for child in self.children:\n",
        "                child.print_tree(property_name)\n",
        "\n",
        "    def add_child(self, child):\n",
        "        child.parent = self\n",
        "        self.children.append(child)\n",
        "\n",
        "def build_management_tree():\n",
        "    # CTO Hierarchy\n",
        "    infra_head = TreeNode(\"Vishwa\",\"Infrastructure Head\")\n",
        "    infra_head.add_child(TreeNode(\"Dhaval\",\"Cloud Manager\"))\n",
        "    infra_head.add_child(TreeNode(\"Abhijit\", \"App Manager\"))\n",
        "\n",
        "    cto = TreeNode(\"Chinmay\", \"CTO\")\n",
        "    cto.add_child(infra_head)\n",
        "    cto.add_child(TreeNode(\"Aamir\", \"Application Head\"))\n",
        "\n",
        "    # HR hierarchy\n",
        "    hr_head = TreeNode(\"Gels\",\"HR Head\")\n",
        "\n",
        "    hr_head.add_child(TreeNode(\"Peter\",\"Recruitment Manager\"))\n",
        "    hr_head.add_child(TreeNode(\"Waqas\", \"Policy Manager\"))\n",
        "\n",
        "    ceo = TreeNode(\"Nilupul\", \"CEO\")\n",
        "    ceo.add_child(cto)\n",
        "    ceo.add_child(hr_head)\n",
        "\n",
        "    return ceo\n",
        "\n",
        "\n",
        "if __name__ == '__main__':\n",
        "    root_node = build_management_tree()\n",
        "    root_node.print_tree(\"name\")\n",
        "    root_node.print_tree(\"designation\")\n",
        "    root_node.print_tree(\"both\")"
      ],
      "execution_count": null,
      "outputs": [
        {
          "name": "stdout",
          "output_type": "stream",
          "text": [
            "Nilupul\n",
            "   |__Chinmay\n",
            "      |__Vishwa\n",
            "         |__Dhaval\n",
            "         |__Abhijit\n",
            "      |__Aamir\n",
            "   |__Gels\n",
            "      |__Peter\n",
            "      |__Waqas\n",
            "CEO\n",
            "   |__CTO\n",
            "      |__Infrastructure Head\n",
            "         |__Cloud Manager\n",
            "         |__App Manager\n",
            "      |__Application Head\n",
            "   |__HR Head\n",
            "      |__Recruitment Manager\n",
            "      |__Policy Manager\n",
            "Nilupul (CEO)\n",
            "   |__Chinmay (CTO)\n",
            "      |__Vishwa (Infrastructure Head)\n",
            "         |__Dhaval (Cloud Manager)\n",
            "         |__Abhijit (App Manager)\n",
            "      |__Aamir (Application Head)\n",
            "   |__Gels (HR Head)\n",
            "      |__Peter (Recruitment Manager)\n",
            "      |__Waqas (Policy Manager)\n"
          ]
        }
      ]
    },
    {
      "cell_type": "markdown",
      "metadata": {
        "id": "jFXbI-vu86qb"
      },
      "source": [
        ""
      ]
    },
    {
      "cell_type": "markdown",
      "metadata": {
        "id": "ZszPsXxy87ia"
      },
      "source": [
        "# BINARY SEARCH TREE"
      ]
    },
    {
      "cell_type": "code",
      "metadata": {
        "colab": {
          "base_uri": "https://localhost:8080/"
        },
        "id": "9t3QzCxEfqPB",
        "outputId": "9680b175-eeec-4b3a-de53-007a242e4d16"
      },
      "source": [
        "class BinarySearchTreeNode:\n",
        "    def __init__(self, data):\n",
        "        self.data = data\n",
        "        self.left = None\n",
        "        self.right = None\n",
        "\n",
        "    def add_child(self, data):\n",
        "        if data == self.data:\n",
        "            return # node already exist\n",
        "\n",
        "        if data < self.data:\n",
        "            if self.left:\n",
        "                self.left.add_child(data)\n",
        "            else:\n",
        "                self.left = BinarySearchTreeNode(data)\n",
        "        else:\n",
        "            if self.right:\n",
        "                self.right.add_child(data)\n",
        "            else:\n",
        "                self.right = BinarySearchTreeNode(data)\n",
        "\n",
        "\n",
        "    def search(self, val):\n",
        "        if self.data == val:\n",
        "            return True\n",
        "\n",
        "        if val < self.data:\n",
        "            if self.left:\n",
        "                return self.left.search(val)\n",
        "            else:\n",
        "                return False\n",
        "\n",
        "        if val > self.data:\n",
        "            if self.right:\n",
        "                return self.right.search(val)\n",
        "            else:\n",
        "                return False\n",
        "\n",
        "    def in_order_traversal(self):\n",
        "        elements = []\n",
        "        if self.left:\n",
        "            elements += self.left.in_order_traversal()\n",
        "\n",
        "        elements.append(self.data)\n",
        "\n",
        "        if self.right:\n",
        "            elements += self.right.in_order_traversal()\n",
        "\n",
        "        return elements\n",
        "\n",
        "    def post_order_traversal(self):\n",
        "        elements = []\n",
        "        if self.left:\n",
        "            elements += self.left.post_order_traversal()\n",
        "        if self.right:\n",
        "            elements += self.right.post_order_traversal()\n",
        "\n",
        "        elements.append(self.data)\n",
        "\n",
        "        return elements\n",
        "\n",
        "    def pre_order_traversal(self):\n",
        "        elements = [self.data]\n",
        "        if self.left:\n",
        "            elements += self.left.pre_order_traversal()\n",
        "        if self.right:\n",
        "            elements += self.right.pre_order_traversal()\n",
        "\n",
        "        return elements\n",
        "\n",
        "    def find_max(self):\n",
        "        if self.right is None:\n",
        "            return self.data\n",
        "        return self.right.find_max()\n",
        "\n",
        "    def find_min(self):\n",
        "        if self.left is None:\n",
        "            return self.data\n",
        "        return self.left.find_min()\n",
        "\n",
        "    def calculate_sum(self):\n",
        "        left_sum = self.left.calculate_sum() if self.left else 0\n",
        "        right_sum = self.right.calculate_sum() if self.right else 0\n",
        "        return self.data + left_sum + right_sum\n",
        "\n",
        "def build_tree(elements):\n",
        "    root = BinarySearchTreeNode(elements[0])\n",
        "\n",
        "    for i in range(1,len(elements)):\n",
        "        root.add_child(elements[i])\n",
        "\n",
        "    return root\n",
        "\n",
        "if __name__ == '__main__':\n",
        "    numbers = [17, 4, 1, 20, 9, 23, 18, 34]\n",
        "\n",
        "    numbers = [15,12,7,14,27,20,23,88 ]\n",
        "\n",
        "    numbers_tree = build_tree(numbers)\n",
        "    print(\"Input numbers:\",numbers)\n",
        "    print(\"Min:\",numbers_tree.find_min())\n",
        "    print(\"Max:\",numbers_tree.find_max())\n",
        "    print(\"Sum:\", numbers_tree.calculate_sum())\n",
        "    print(\"In order traversal:\", numbers_tree.in_order_traversal())\n",
        "    print(\"Pre order traversal:\", numbers_tree.pre_order_traversal())\n",
        "    print(\"Post order traversal:\", numbers_tree.post_order_traversal())"
      ],
      "execution_count": null,
      "outputs": [
        {
          "name": "stdout",
          "output_type": "stream",
          "text": [
            "Input numbers: [15, 12, 7, 14, 27, 20, 23, 88]\n",
            "Min: 7\n",
            "Max: 88\n",
            "Sum: 206\n",
            "In order traversal: [7, 12, 14, 15, 20, 23, 27, 88]\n",
            "Pre order traversal: [15, 12, 7, 14, 27, 20, 23, 88]\n",
            "Post order traversal: [7, 14, 12, 23, 20, 88, 27, 15]\n"
          ]
        }
      ]
    },
    {
      "cell_type": "code",
      "metadata": {
        "id": "PfuRqMMRT84g"
      },
      "source": [
        ""
      ],
      "execution_count": null,
      "outputs": []
    },
    {
      "cell_type": "markdown",
      "metadata": {
        "id": "TqkcBKWVLqaJ"
      },
      "source": [
        "# Binary Tree Part 2 Exercise"
      ]
    },
    {
      "cell_type": "code",
      "metadata": {
        "colab": {
          "base_uri": "https://localhost:8080/"
        },
        "id": "eBDKfKfyLslE",
        "outputId": "dfcd2354-adb1-4fb5-9080-7324d372d991"
      },
      "source": [
        "  \n",
        "class BinarySearchTreeNode:\n",
        "    def __init__(self, data):\n",
        "        self.data = data\n",
        "        self.left = None\n",
        "        self.right = None\n",
        "\n",
        "    def add_child(self, data):\n",
        "        if data == self.data:\n",
        "            return # node already exist\n",
        "\n",
        "        if data < self.data:\n",
        "            if self.left:\n",
        "                self.left.add_child(data)\n",
        "            else:\n",
        "                self.left = BinarySearchTreeNode(data)\n",
        "        else:\n",
        "            if self.right:\n",
        "                self.right.add_child(data)\n",
        "            else:\n",
        "                self.right = BinarySearchTreeNode(data)\n",
        "\n",
        "\n",
        "    def search(self, val):\n",
        "        if self.data == val:\n",
        "            return True\n",
        "\n",
        "        if val < self.data:\n",
        "            if self.left:\n",
        "                return self.left.search(val)\n",
        "            else:\n",
        "                return False\n",
        "\n",
        "        if val > self.data:\n",
        "            if self.right:\n",
        "                return self.right.search(val)\n",
        "            else:\n",
        "                return False\n",
        "\n",
        "    def in_order_traversal(self):\n",
        "        elements = []\n",
        "        if self.left:\n",
        "            elements += self.left.in_order_traversal()\n",
        "\n",
        "        elements.append(self.data)\n",
        "\n",
        "        if self.right:\n",
        "            elements += self.right.in_order_traversal()\n",
        "\n",
        "        return elements\n",
        "\n",
        "    def delete(self, val):\n",
        "        if val < self.data:\n",
        "            if self.left:\n",
        "                self.left = self.left.delete(val)\n",
        "        elif val > self.data:\n",
        "            if self.right:\n",
        "                self.right = self.right.delete(val)\n",
        "        else:\n",
        "            if self.left is None and self.right is None:\n",
        "                return None\n",
        "            elif self.left is None:\n",
        "                return self.right\n",
        "            elif self.right is None:\n",
        "                return self.right\n",
        "\n",
        "            max_val = self.left.find_max()\n",
        "            self.data = max_val\n",
        "            self.left = self.left.delete(max_val)\n",
        "\n",
        "        return self\n",
        "\n",
        "    def find_max(self):\n",
        "        if self.right is None:\n",
        "            return self.data\n",
        "        return self.right.find_max()\n",
        "\n",
        "    def find_min(self):\n",
        "        if self.left is None:\n",
        "            return self.data\n",
        "        return self.left.find_min()\n",
        "\n",
        "\n",
        "def build_tree(elements):\n",
        "    print(\"Building tree with these elements:\",elements)\n",
        "    root = BinarySearchTreeNode(elements[0])\n",
        "\n",
        "    for i in range(1,len(elements)):\n",
        "        root.add_child(elements[i])\n",
        "\n",
        "    return root\n",
        "\n",
        "if __name__ == '__main__':\n",
        "    numbers_tree = build_tree([17, 4, 1, 20, 9, 23, 18, 34])\n",
        "    numbers_tree.delete(20)\n",
        "    print(\"After deleting 20 \",numbers_tree.in_order_traversal()) # this should print [1, 4, 9, 17, 18, 23, 34]\n",
        "\n",
        "    numbers_tree = build_tree([17, 4, 1, 20, 9, 23, 18, 34])\n",
        "    numbers_tree.delete(9)\n",
        "    print(\"After deleting 9 \",numbers_tree.in_order_traversal())  # this should print [1, 4, 17, 18, 20, 23, 34]\n",
        "\n",
        "    numbers_tree = build_tree([17, 4, 1, 20, 9, 23, 18, 34])\n",
        "    numbers_tree.delete(17)\n",
        "    print(\"After deleting 17 \",numbers_tree.in_order_traversal())  # this should print [1, 4, 9, 18, 20, 23, 34]"
      ],
      "execution_count": null,
      "outputs": [
        {
          "name": "stdout",
          "output_type": "stream",
          "text": [
            "Building tree with these elements: [17, 4, 1, 20, 9, 23, 18, 34]\n",
            "After deleting 20  [1, 4, 9, 17, 18, 23, 34]\n",
            "Building tree with these elements: [17, 4, 1, 20, 9, 23, 18, 34]\n",
            "After deleting 9  [1, 4, 17, 18, 20, 23, 34]\n",
            "Building tree with these elements: [17, 4, 1, 20, 9, 23, 18, 34]\n",
            "After deleting 17  [1, 4, 9, 18, 20, 23, 34]\n"
          ]
        }
      ]
    },
    {
      "cell_type": "markdown",
      "metadata": {
        "id": "rDd4xIGfO7I-"
      },
      "source": [
        "# GRAPH"
      ]
    },
    {
      "cell_type": "code",
      "metadata": {
        "colab": {
          "base_uri": "https://localhost:8080/"
        },
        "id": "bIPJylni1K2A",
        "outputId": "9b3d39b5-af9a-4ff6-ac8e-f869d0aab49c"
      },
      "source": [
        "class Graph:\n",
        "    def __init__(self, edges):\n",
        "        self.edges = edges\n",
        "        self.graph_dict = {}\n",
        "        for start, end in edges:\n",
        "            if start in self.graph_dict:\n",
        "                self.graph_dict[start].append(end)\n",
        "            else:\n",
        "                self.graph_dict[start] = [end]\n",
        "        print(\"Graph Dict:\", self.graph_dict)\n",
        "\n",
        "    def get_paths(self, start, end, path=[]):\n",
        "        path = path + [start]\n",
        "\n",
        "        if start == end:\n",
        "            return [path]\n",
        "\n",
        "        if start not in self.graph_dict:\n",
        "            return []\n",
        "\n",
        "        paths = []\n",
        "        for node in self.graph_dict[start]:\n",
        "            if node not in path:\n",
        "                new_paths = self.get_paths(node, end, path)\n",
        "                for p in new_paths:\n",
        "                    paths.append(p)\n",
        "\n",
        "        return paths\n",
        "\n",
        "    def get_shortest_path(self, start, end, path=[]):\n",
        "        path = path + [start]\n",
        "\n",
        "        if start == end:\n",
        "            return path\n",
        "\n",
        "        if start not in self.graph_dict:\n",
        "            return None\n",
        "\n",
        "        shortest_path = None\n",
        "        for node in self.graph_dict[start]:\n",
        "            if node not in path:\n",
        "                sp = self.get_shortest_path(node, end, path)\n",
        "                if sp:\n",
        "                    if shortest_path is None or len(sp) < len(shortest_path):\n",
        "                        shortest_path = sp\n",
        "\n",
        "        return shortest_path\n",
        "\n",
        "if __name__ == '__main__':\n",
        "\n",
        "    routes = [\n",
        "        (\"Mumbai\",\"Pune\"),\n",
        "        (\"Mumbai\", \"Surat\"),\n",
        "        (\"Surat\", \"Bangaluru\"),\n",
        "        (\"Pune\",\"Hyderabad\"),\n",
        "        (\"Pune\",\"Mysuru\"),\n",
        "        (\"Hyderabad\",\"Bangaluru\"),\n",
        "        (\"Hyderabad\", \"Chennai\"),\n",
        "        (\"Mysuru\", \"Bangaluru\"),\n",
        "        (\"Chennai\", \"Bangaluru\")\n",
        "    ]\n",
        "\n",
        "    routes = [\n",
        "        (\"Mumbai\", \"Paris\"),\n",
        "        (\"Mumbai\", \"Dubai\"),\n",
        "        (\"Paris\", \"Dubai\"),\n",
        "        (\"Paris\", \"New York\"),\n",
        "        (\"Dubai\", \"New York\"),\n",
        "        (\"New York\", \"Toronto\"),\n",
        "    ]\n",
        "\n",
        "    route_graph = Graph(routes)\n",
        "\n",
        "    start = \"Mumbai\"\n",
        "    end = \"New York\"\n",
        "\n",
        "    print(f\"All paths between: {start} and {end}: \",route_graph.get_paths(start,end))\n",
        "    print(f\"Shortest path between {start} and {end}: \", route_graph.get_shortest_path(start,end))\n",
        "\n",
        "    start = \"Dubai\"\n",
        "    end = \"New York\"\n",
        "\n",
        "    print(f\"All paths between: {start} and {end}: \",route_graph.get_paths(start,end))\n",
        "    print(f\"Shortest path between {start} and {end}: \", route_graph.get_shortest_path(start,end))"
      ],
      "execution_count": null,
      "outputs": [
        {
          "name": "stdout",
          "output_type": "stream",
          "text": [
            "Graph Dict: {'Mumbai': ['Paris', 'Dubai'], 'Paris': ['Dubai', 'New York'], 'Dubai': ['New York'], 'New York': ['Toronto']}\n",
            "All paths between: Mumbai and New York:  [['Mumbai', 'Paris', 'Dubai', 'New York'], ['Mumbai', 'Paris', 'New York'], ['Mumbai', 'Dubai', 'New York']]\n",
            "Shortest path between Mumbai and New York:  ['Mumbai', 'Paris', 'New York']\n",
            "All paths between: Dubai and New York:  [['Dubai', 'New York']]\n",
            "Shortest path between Dubai and New York:  ['Dubai', 'New York']\n"
          ]
        }
      ]
    },
    {
      "cell_type": "markdown",
      "metadata": {
        "id": "7hZNiRw7XwGy"
      },
      "source": [
        "# BINARY SEARCH"
      ]
    },
    {
      "cell_type": "code",
      "metadata": {
        "colab": {
          "base_uri": "https://localhost:8080/"
        },
        "id": "5LUfWNG_X0tQ",
        "outputId": "6257614c-2c33-49d6-cc11-5734ca610784"
      },
      "source": [
        "def binary_search(numbers_list, number_to_find):\n",
        "    left_index = 0\n",
        "    right_index = len(numbers_list) - 1\n",
        "    mid_index = 0\n",
        "\n",
        "    while left_index <= right_index:\n",
        "        mid_index = (left_index + right_index) // 2\n",
        "        mid_number = numbers_list[mid_index]\n",
        "\n",
        "        if mid_number == number_to_find:\n",
        "            return mid_index\n",
        "\n",
        "        if mid_number < number_to_find: # this means number is in right hand side of the list\n",
        "            left_index = mid_index + 1\n",
        "        else: # number to find is on left hand side of the list\n",
        "            right_index = mid_index - 1\n",
        "\n",
        "    return -1\n",
        "\n",
        "def find_all_occurances(numbers, number_to_find):\n",
        "    index = binary_search(numbers, number_to_find)\n",
        "    indices = [index]\n",
        "    # find indices on left hand side\n",
        "    i = index-1\n",
        "    while i >=0:\n",
        "        if numbers[i] == number_to_find:\n",
        "            indices.append(i)\n",
        "        else:\n",
        "            break\n",
        "        i = i - 1\n",
        "\n",
        "    # find indices on right hand side\n",
        "    i = index + 1\n",
        "    while i<len(numbers):\n",
        "        if numbers[i] == number_to_find:\n",
        "            indices.append(i)\n",
        "        else:\n",
        "            break\n",
        "        i = i + 1\n",
        "\n",
        "    return sorted(indices)\n",
        "\n",
        "\n",
        "if __name__ == '__main__':\n",
        "    numbers = [1,4,6,9,11,15,15,15,17,21,34,34,56]\n",
        "    number_to_find = 15\n",
        "    indices = find_all_occurances(numbers, number_to_find)\n",
        "    print(f\"Indices of occurances of {number_to_find} are {indices}\")"
      ],
      "execution_count": null,
      "outputs": [
        {
          "name": "stdout",
          "output_type": "stream",
          "text": [
            "Indices of occurances of 15 are [5, 6, 7]\n"
          ]
        }
      ]
    },
    {
      "cell_type": "markdown",
      "metadata": {
        "id": "LEADwnXrCaaH"
      },
      "source": [
        "**BUBBLE SORT**"
      ]
    },
    {
      "cell_type": "markdown",
      "metadata": {
        "id": "_BF1Uma-lD_h"
      },
      "source": [
        "Modify bubble_sort function such that it can sort following list of transactions happening in an electronic store,\n",
        "\n",
        "elements = [\n",
        "        { 'name': 'mona',   'transaction_amount': 1000, 'device': 'iphone-10'},\n",
        "        { 'name': 'dhaval', 'transaction_amount': 400,  'device': 'google pixel'},\n",
        "        { 'name': 'kathy',  'transaction_amount': 200,  'device': 'vivo'},\n",
        "        { 'name': 'aamir',  'transaction_amount': 800,  'device': 'iphone-8'},\n",
        "    ]\n",
        "bubble_sort function should take key from a transaction record and sort the list as per that key. For example,\n",
        "\n",
        "bubble_sort(elements, key='transaction_amount')\n",
        "This will sort elements by transaction_amount and your sorted list will look like,\n",
        "\n",
        "elements = [\n",
        "        { 'name': 'kathy',  'transaction_amount': 200,  'device': 'vivo'},\n",
        "        { 'name': 'dhaval', 'transaction_amount': 400,  'device': 'google pixel'},\n",
        "        { 'name': 'aamir',  'transaction_amount': 800,  'device': 'iphone-8'},\n",
        "        { 'name': 'mona',   'transaction_amount': 1000, 'device': 'iphone-10'},\n",
        "    ]\n",
        "But if you call it like this,\n",
        "\n",
        "bubble_sort(elements, key='name')\n",
        "output will be,\n",
        "\n",
        "elements = [\n",
        "        { 'name': 'aamir',  'transaction_amount': 800,  'device': 'iphone-8'},\n",
        "        { 'name': 'dhaval', 'transaction_amount': 400,  'device': 'google pixel'},\n",
        "        { 'name': 'kathy',  'transaction_amount': 200,  'device': 'vivo'},\n",
        "        { 'name': 'mona',   'transaction_amount': 1000, 'device': 'iphone-10'},\n",
        "    ]"
      ]
    },
    {
      "cell_type": "code",
      "metadata": {
        "colab": {
          "base_uri": "https://localhost:8080/"
        },
        "id": "3hCuH7z7gqat",
        "outputId": "ae76219a-c730-4d8c-e760-da0d9eaed02d"
      },
      "source": [
        "def bubble_sort(elements, key=None):\n",
        "    size = len(elements)\n",
        "\n",
        "    for i in range(size-1):\n",
        "        swapped = False\n",
        "        for j in range(size-1-i):\n",
        "            a = elements[j][key]\n",
        "            b = elements[j+1][key]\n",
        "            if a > b:\n",
        "                tmp = elements[j]\n",
        "                elements[j] = elements[j+1]\n",
        "                elements[j+1] = tmp\n",
        "                swapped = True\n",
        "\n",
        "        if not swapped:\n",
        "            break\n",
        "\n",
        "if __name__ == '__main__':\n",
        "    elements = [\n",
        "        { 'name': 'mona',   'transaction_amount': 1000, 'device': 'iphone-10'},\n",
        "        { 'name': 'dhaval', 'transaction_amount': 400,  'device': 'google pixel'},\n",
        "        { 'name': 'kathy',  'transaction_amount': 200,  'device': 'vivo'},\n",
        "        { 'name': 'aamir',  'transaction_amount': 800,  'device': 'iphone-8'},\n",
        "    ]\n",
        "\n",
        "    bubble_sort(elements, key='transaction_amount')\n",
        "    print(elements)"
      ],
      "execution_count": null,
      "outputs": [
        {
          "name": "stdout",
          "output_type": "stream",
          "text": [
            "[{'name': 'kathy', 'transaction_amount': 200, 'device': 'vivo'}, {'name': 'dhaval', 'transaction_amount': 400, 'device': 'google pixel'}, {'name': 'aamir', 'transaction_amount': 800, 'device': 'iphone-8'}, {'name': 'mona', 'transaction_amount': 1000, 'device': 'iphone-10'}]\n"
          ]
        }
      ]
    },
    {
      "cell_type": "markdown",
      "metadata": {
        "id": "21fVXUHsChn1"
      },
      "source": [
        "# QUICK SORT"
      ]
    },
    {
      "cell_type": "markdown",
      "metadata": {
        "id": "453tLI9ZCoY-"
      },
      "source": [
        "Implement quick sort using lumoto partition scheme. This partition scheme is explained in the video tutorial, you need to write python code to implement it. Check the pseudo code here: https://en.wikipedia.org/wiki/Quicksort Check the section Lomuto partition scheme"
      ]
    },
    {
      "cell_type": "code",
      "metadata": {
        "colab": {
          "base_uri": "https://localhost:8080/"
        },
        "id": "7357joOaEyTy",
        "outputId": "c10b7483-3a94-4f07-9843-a271d7108b84"
      },
      "source": [
        "def swap(a, b, arr):\n",
        "    if a!=b:\n",
        "        tmp = arr[a]\n",
        "        arr[a] = arr[b]\n",
        "        arr[b] = tmp\n",
        "\n",
        "def quick_sort(elements, start, end):\n",
        "    if len(elements)== 1:\n",
        "        return\n",
        "    if start < end:\n",
        "        pi = partition(elements, start, end)\n",
        "        quick_sort(elements, start, pi-1)\n",
        "        quick_sort(elements, pi+1, end)\n",
        "\n",
        "def partition(elements, start, end):\n",
        "    pivot = elements[end]\n",
        "    p_index = start\n",
        "\n",
        "    for i in range(start, end):\n",
        "        if elements[i] <= pivot:\n",
        "            swap(i, p_index, elements)\n",
        "            p_index += 1\n",
        "\n",
        "    swap(p_index, end, elements)\n",
        "\n",
        "    return p_index\n",
        "\n",
        "\n",
        "if __name__ == '__main__':\n",
        "    tests = [\n",
        "        [11,9,29,7,2,15,28],\n",
        "        [3, 7, 9, 11],\n",
        "        [25, 22, 21, 10],\n",
        "        [29, 15, 28],\n",
        "        [],\n",
        "        [6]\n",
        "    ]\n",
        "    # elements = [\"mona\", \"dhaval\", \"aamir\", \"tina\", \"chang\"]\n",
        "\n",
        "    for elements in tests:\n",
        "        quick_sort(elements, 0, len(elements)-1)\n",
        "        print(f'sorted array: {elements}')\n"
      ],
      "execution_count": null,
      "outputs": [
        {
          "name": "stdout",
          "output_type": "stream",
          "text": [
            "sorted array: [2, 7, 9, 11, 15, 28, 29]\n",
            "sorted array: [3, 7, 9, 11]\n",
            "sorted array: [10, 21, 22, 25]\n",
            "sorted array: [15, 28, 29]\n",
            "sorted array: []\n",
            "sorted array: [6]\n"
          ]
        }
      ]
    },
    {
      "cell_type": "markdown",
      "metadata": {
        "id": "6_6qelS8M5da"
      },
      "source": [
        ""
      ]
    },
    {
      "cell_type": "markdown",
      "metadata": {
        "id": "l0Co7iHsM6m6"
      },
      "source": [
        "# Insertion sort"
      ]
    },
    {
      "cell_type": "markdown",
      "metadata": {
        "id": "hfGUwJfPNAQv"
      },
      "source": [
        "**Compute the running median of a sequence of numbers. That is, given a stream of numbers, print out the median of the list so far on each new element.\n",
        "\n",
        "Recall that the median of an even-numbered list is the average of the two middle numbers in a sorted list.\n",
        "\n",
        "For example, given the sequence [2, 1, 5, 7, 2, 0, 5], your algorithm should print out:\n",
        "\n",
        "2\n",
        "1.5\n",
        "2\n",
        "3.5\n",
        "2\n",
        "2\n",
        "2**"
      ]
    },
    {
      "cell_type": "code",
      "metadata": {
        "colab": {
          "background_save": true,
          "base_uri": "https://localhost:8080/"
        },
        "id": "0FVKh0OiM_-a",
        "outputId": "48f64e6b-96d6-4e03-85c9-b2618721f5ea"
      },
      "source": [
        "def place_to_insert(array, key):\n",
        "    index = 0\n",
        "    for i in array:\n",
        "        if i > key:\n",
        "            break\n",
        "        else:\n",
        "            index += 1\n",
        "    return index\n",
        "\n",
        "\n",
        "def insert_to_sorted(array, key):\n",
        "    index = place_to_insert(array, key)\n",
        "    return array[0:index]+[key]+array[index:]\n",
        "\n",
        "\n",
        "if __name__ == \"__main__\":\n",
        "    array = [2, 1, 5, 7, 2, 0, 5]\n",
        "\n",
        "    stream = []\n",
        "\n",
        "    count = 0\n",
        "    while(True):\n",
        "        i = int(input())\n",
        "        count += 1\n",
        "        stream = insert_to_sorted(stream, i)\n",
        "        if count % 2 == 1:\n",
        "            print(f\"Median of {stream} : {stream[(count)//2]}\")\n",
        "        else:\n",
        "            i1 = count//2\n",
        "            i2 = (count//2) - 1\n",
        "            print(f\"Median of {stream} : {(stream[i1] + stream[i2])/2}\")"
      ],
      "execution_count": null,
      "outputs": [
        {
          "name": "stdout",
          "output_type": "stream",
          "text": [
            "Median of [5] : 5\n"
          ]
        }
      ]
    },
    {
      "cell_type": "markdown",
      "metadata": {
        "id": "T2imLd0AkA48"
      },
      "source": [
        "# MERGE SORT"
      ]
    },
    {
      "cell_type": "markdown",
      "metadata": {
        "id": "jirmaCqdpRIx"
      },
      "source": [
        "Modify merge_sort function such that it can sort following list of athletes as per the time taken by them in the marathon,\n",
        "\n",
        "elements = [\n",
        "        { 'name': 'vedanth',   'age': 17, 'time_hours': 1},\n",
        "        { 'name': 'rajab', 'age': 12,  'time_hours': 3},\n",
        "        { 'name': 'vignesh',  'age': 21,  'time_hours': 2.5},\n",
        "        { 'name': 'chinmay',  'age': 24,  'time_hours': 1.5},\n",
        "    ]\n",
        "merge_sort function should take key from an athlete's marathon log and sort the list as per that key. For example,\n",
        "\n",
        "merge_sort(elements, key='time_hours', descending=True)\n",
        "This will sort elements by time_hours and your sorted list will look like,\n",
        "\n",
        "elements = [\n",
        "        {'name': 'rajab', 'age': 12, 'time_hours': 3},\n",
        "        {'name': 'vignesh', 'age': 21, 'time_hours': 2.5},\n",
        "        {'name': 'chinmay', 'age': 24, 'time_hours': 1.5},\n",
        "        {'name': 'vedanth', 'age': 17, 'time_hours': 1},\n",
        "    ]\n",
        "But if you call it like this,\n",
        "\n",
        "merge_sort(elements, key='name')\n",
        "output will be,\n",
        "\n",
        "elements = [\n",
        "        { 'name': 'chinmay',   'age': 24, 'time_hours': 1.5},\n",
        "        { 'name': 'rajab', 'age': 12,  'time_hours': 3},\n",
        "        { 'name': 'vedanth',  'age': 17,  'time_hours': 1},\n",
        "        { 'name': 'vignesh',  'age': 21,  'time_hours': 2.5},\n",
        "    ]"
      ]
    },
    {
      "cell_type": "code",
      "metadata": {
        "colab": {
          "base_uri": "https://localhost:8080/"
        },
        "id": "vBA5o7H8kENY",
        "outputId": "246ded90-ea63-4412-9e95-cf636e9030f3"
      },
      "source": [
        "def merge_sort(elements, key, descending=False):\n",
        "    size = len(elements)\n",
        "\n",
        "    if size == 1:\n",
        "        return elements\n",
        "\n",
        "    left_list = merge_sort(elements[0:size//2], key, descending)\n",
        "    right_list = merge_sort(elements[size//2:], key, descending)\n",
        "    sorted_list = merge(left_list, right_list, key, descending)\n",
        "\n",
        "    return sorted_list\n",
        "\n",
        "    \n",
        "def merge(left_list, right_list, key, descending=False):\n",
        "    merged = []\n",
        "    if descending:\n",
        "        while len(left_list) > 0 and len(right_list) > 0:\n",
        "            if left_list[0][key] >= right_list[0][key]:\n",
        "                merged.append(left_list.pop(0))\n",
        "            else:\n",
        "                merged.append(right_list.pop(0))\n",
        "\n",
        "    else:\n",
        "        while len(left_list) > 0 and len(right_list) > 0:\n",
        "            if left_list[0][key] <= right_list[0][key]:\n",
        "                merged.append(left_list.pop(0))\n",
        "            else:\n",
        "                merged.append(right_list.pop(0))\n",
        "\n",
        "    merged.extend(left_list)\n",
        "    merged.extend(right_list)\n",
        "    return merged\n",
        "\n",
        "if __name__ == '__main__':\n",
        "    elements = [\n",
        "        { 'name': 'vedanth',   'age': 17, 'time_hours': 1},\n",
        "        { 'name': 'rajab', 'age': 12,  'time_hours': 3},\n",
        "        { 'name': 'vignesh',  'age': 21,  'time_hours': 2.5},\n",
        "        { 'name': 'chinmay',  'age': 24,  'time_hours': 1.5},\n",
        "    ]\n",
        "\n",
        "    sorted_list = merge_sort(elements, key='time_hours', descending=True)\n",
        "    print(sorted_list)"
      ],
      "execution_count": null,
      "outputs": [
        {
          "output_type": "stream",
          "name": "stdout",
          "text": [
            "[{'name': 'rajab', 'age': 12, 'time_hours': 3}, {'name': 'vignesh', 'age': 21, 'time_hours': 2.5}, {'name': 'chinmay', 'age': 24, 'time_hours': 1.5}, {'name': 'vedanth', 'age': 17, 'time_hours': 1}]\n"
          ]
        }
      ]
    },
    {
      "cell_type": "markdown",
      "metadata": {
        "id": "r2EvU-VY1z1q"
      },
      "source": [
        "# SHELL SORT"
      ]
    },
    {
      "cell_type": "markdown",
      "metadata": {
        "id": "nSwzpQs55SjU"
      },
      "source": [
        "Sort the elements of a given list using shell sort, but with a slight modification. Remove all the repeating occurances of elements while sorting.\n",
        "\n",
        "Traditionally, when comparing two elements in shell sort, we swap if first element is bigger than second, and do nothing otherwise.\n",
        "\n",
        "In this modified shell sort with duplicate removal, we will swap if first element is bigger than second, and do nothing if element is smaller, but if values are same, we will delete one of the two elements we are comparing before starting the next pass for the reduced gap.\n",
        "\n",
        "For example, given the unsorted list [2, 1, 5, 7, 2, 0, 5, 1, 2, 9, 5, 8, 3], after sorting using shell sort without duplicates, the sorted list would be:\n",
        "\n",
        "[0, 1, 2, 3, 5, 7, 8, 9]"
      ]
    },
    {
      "cell_type": "code",
      "metadata": {
        "colab": {
          "base_uri": "https://localhost:8080/"
        },
        "id": "ebIsAcDl16j-",
        "outputId": "38b803a3-34da-4c74-e5e0-057c93f5f941"
      },
      "source": [
        "def shell_sort(arr):\n",
        "    n = len(arr)\n",
        "    div = 2\n",
        "    gap = n//div\n",
        "    while gap > 0:\n",
        "        index_to_delete = []\n",
        "        for i in range(gap, n):\n",
        "            temp = arr[i]\n",
        "            j = i\n",
        "            while j >= gap and arr[j-gap] >= temp:\n",
        "                if arr[j-gap] == temp:\n",
        "                    index_to_delete.append(j)\n",
        "                arr[j] = arr[j-gap]\n",
        "                j -= gap\n",
        "            arr[j] = temp\n",
        "        index_to_delete=list(set(index_to_delete))\n",
        "        index_to_delete.sort()\n",
        "        if index_to_delete:\n",
        "            for i in index_to_delete[-1::-1]:\n",
        "                del arr[i]\n",
        "        div *= 2\n",
        "        n = len(arr)\n",
        "        gap = n//div\n",
        "\n",
        "\n",
        "if __name__ == '__main__':\n",
        "    elements = [2, 1, 5, 7, 2, 0, 5, 1, 2, 9,  5, 8, 3]\n",
        "\n",
        "    print(f'Given unsorted list: {elements}')\n",
        "    shell_sort(elements)\n",
        "    print(f'List after Sorting : {elements}')"
      ],
      "execution_count": 1,
      "outputs": [
        {
          "output_type": "stream",
          "name": "stdout",
          "text": [
            "Given unsorted list: [2, 1, 5, 7, 2, 0, 5, 1, 2, 9, 5, 8, 3]\n",
            "List after Sorting : [0, 1, 2, 3, 5, 7, 8, 9]\n"
          ]
        }
      ]
    },
    {
      "cell_type": "markdown",
      "metadata": {
        "id": "A3AkgF9k-IkU"
      },
      "source": [
        "# SELECTION SORT"
      ]
    },
    {
      "cell_type": "markdown",
      "metadata": {
        "id": "r5lbrWAZ-Qps"
      },
      "source": [
        "Implement a Multi-Level Sort of a given list of dictionaries based on a given sorting order. If user wants to sort dictionary based on First Key 'A', Then Key 'B', they shall pass list of keys in the order of preference as a list ['A','B']. Your code should be able to sort list of dictionaries for any number of keys in sorting order list.\n",
        "\n",
        "Using this multi-level sort, you should be able to sort any list of dictionaries based on sorting order preference\n",
        "\n",
        "Example: A single dictionary entry contains two keys 'First Name' and 'Last Name'. the list should be sorted first based on 'First Name', then based on 'Last Name', w.r.t. common/same 'First Name' entries.\n",
        "\n",
        "for this, one shall past sorting order of preference list [ 'First Name' , 'Last Name' ]\n",
        "\n",
        "For this, Given the following sequence List:\n",
        "\n",
        "[\n",
        "    {'First Name': 'Raj', 'Last Name': 'Nayyar'},\n",
        "    {'First Name': 'Suraj', 'Last Name': 'Sharma'},\n",
        "    {'First Name': 'Karan', 'Last Name': 'Kumar'},\n",
        "    {'First Name': 'Jade', 'Last Name': 'Canary'},\n",
        "    {'First Name': 'Raj', 'Last Name': 'Thakur'},\n",
        "    {'First Name': 'Raj', 'Last Name': 'Sharma'},\n",
        "    {'First Name': 'Kiran', 'Last Name': 'Kamla'},\n",
        "    {'First Name': 'Armaan', 'Last Name': 'Kumar'},\n",
        "    {'First Name': 'Jaya', 'Last Name': 'Sharma'},\n",
        "    {'First Name': 'Ingrid', 'Last Name': 'Galore'},\n",
        "    {'First Name': 'Jaya', 'Last Name': 'Seth'},\n",
        "    {'First Name': 'Armaan', 'Last Name': 'Dadra'},\n",
        "    {'First Name': 'Ingrid', 'Last Name': 'Maverick'},\n",
        "    {'First Name': 'Aahana', 'Last Name': 'Arora'}\n",
        "]\n",
        "Your algorithm should generate sorted list:\n",
        "\n",
        "[\n",
        "    {'First Name': 'Aahana', 'Last Name': 'Arora'}\n",
        "    {'First Name': 'Armaan', 'Last Name': 'Dadra'}\n",
        "    {'First Name': 'Armaan', 'Last Name': 'Kumar'}\n",
        "    {'First Name': 'Ingrid', 'Last Name': 'Galore'}\n",
        "    {'First Name': 'Ingrid', 'Last Name': 'Maverick'}\n",
        "    {'First Name': 'Jade', 'Last Name': 'Canary'}\n",
        "    {'First Name': 'Jaya', 'Last Name': 'Seth'}\n",
        "    {'First Name': 'Jaya', 'Last Name': 'Sharma'}\n",
        "    {'First Name': 'Karan', 'Last Name': 'Kumar'}\n",
        "    {'First Name': 'Kiran', 'Last Name': 'Kamla'}\n",
        "    {'First Name': 'Raj', 'Last Name': 'Nayyar'}\n",
        "    {'First Name': 'Raj', 'Last Name': 'Sharma'}\n",
        "    {'First Name': 'Raj', 'Last Name': 'Thakur'}\n",
        "    {'First Name': 'Suraj', 'Last Name': 'Sharma'}\n",
        "]\n"
      ]
    },
    {
      "cell_type": "code",
      "metadata": {
        "colab": {
          "base_uri": "https://localhost:8080/"
        },
        "id": "mkkiPPn6-MVs",
        "outputId": "3215c401-9729-4adc-d21e-0e86e23f1470"
      },
      "source": [
        "def multilevel_selection_sort(elements, sort_by_list):\n",
        "    for sort_by in sort_by_list[-1::-1]:\n",
        "        for x in range(len(elements)):\n",
        "            min_index = x\n",
        "            for y in range(x, len(elements)):\n",
        "                if elements[y][sort_by] < elements[min_index][sort_by]:\n",
        "                    min_index = y\n",
        "            if x != min_index:\n",
        "                elements[x], elements[min_index] = elements[min_index], elements[x]\n",
        "\n",
        "\n",
        "if __name__ == '__main__':\n",
        "    elements = [\n",
        "        {'First Name': 'Raj', 'Last Name': 'Nayyar'},\n",
        "        {'First Name': 'Suraj', 'Last Name': 'Sharma'},\n",
        "        {'First Name': 'Karan', 'Last Name': 'Kumar'},\n",
        "        {'First Name': 'Jade', 'Last Name': 'Canary'},\n",
        "        {'First Name': 'Raj', 'Last Name': 'Thakur'},\n",
        "        {'First Name': 'Raj', 'Last Name': 'Sharma'},\n",
        "        {'First Name': 'Kiran', 'Last Name': 'Kamla'},\n",
        "        {'First Name': 'Armaan', 'Last Name': 'Kumar'},\n",
        "        {'First Name': 'Jaya', 'Last Name': 'Sharma'},\n",
        "        {'First Name': 'Ingrid', 'Last Name': 'Galore'},\n",
        "        {'First Name': 'Jaya', 'Last Name': 'Seth'},\n",
        "        {'First Name': 'Armaan', 'Last Name': 'Dadra'},\n",
        "        {'First Name': 'Ingrid', 'Last Name': 'Maverick'},\n",
        "        {'First Name': 'Aahana', 'Last Name': 'Arora'}\n",
        "    ]\n",
        "\n",
        "    print(f'Given unsorted array:', *elements, sep='\\n')\n",
        "    multilevel_selection_sort(\n",
        "        elements, ['First Name', 'Last Name'])\n",
        "    print(f'Array after Multi-Level Sorting:', *elements, sep='\\n')"
      ],
      "execution_count": 2,
      "outputs": [
        {
          "output_type": "stream",
          "name": "stdout",
          "text": [
            "Given unsorted array:\n",
            "{'First Name': 'Raj', 'Last Name': 'Nayyar'}\n",
            "{'First Name': 'Suraj', 'Last Name': 'Sharma'}\n",
            "{'First Name': 'Karan', 'Last Name': 'Kumar'}\n",
            "{'First Name': 'Jade', 'Last Name': 'Canary'}\n",
            "{'First Name': 'Raj', 'Last Name': 'Thakur'}\n",
            "{'First Name': 'Raj', 'Last Name': 'Sharma'}\n",
            "{'First Name': 'Kiran', 'Last Name': 'Kamla'}\n",
            "{'First Name': 'Armaan', 'Last Name': 'Kumar'}\n",
            "{'First Name': 'Jaya', 'Last Name': 'Sharma'}\n",
            "{'First Name': 'Ingrid', 'Last Name': 'Galore'}\n",
            "{'First Name': 'Jaya', 'Last Name': 'Seth'}\n",
            "{'First Name': 'Armaan', 'Last Name': 'Dadra'}\n",
            "{'First Name': 'Ingrid', 'Last Name': 'Maverick'}\n",
            "{'First Name': 'Aahana', 'Last Name': 'Arora'}\n",
            "Array after Multi-Level Sorting:\n",
            "{'First Name': 'Aahana', 'Last Name': 'Arora'}\n",
            "{'First Name': 'Armaan', 'Last Name': 'Dadra'}\n",
            "{'First Name': 'Armaan', 'Last Name': 'Kumar'}\n",
            "{'First Name': 'Ingrid', 'Last Name': 'Galore'}\n",
            "{'First Name': 'Ingrid', 'Last Name': 'Maverick'}\n",
            "{'First Name': 'Jade', 'Last Name': 'Canary'}\n",
            "{'First Name': 'Jaya', 'Last Name': 'Seth'}\n",
            "{'First Name': 'Jaya', 'Last Name': 'Sharma'}\n",
            "{'First Name': 'Karan', 'Last Name': 'Kumar'}\n",
            "{'First Name': 'Kiran', 'Last Name': 'Kamla'}\n",
            "{'First Name': 'Raj', 'Last Name': 'Sharma'}\n",
            "{'First Name': 'Raj', 'Last Name': 'Nayyar'}\n",
            "{'First Name': 'Raj', 'Last Name': 'Thakur'}\n",
            "{'First Name': 'Suraj', 'Last Name': 'Sharma'}\n"
          ]
        }
      ]
    },
    {
      "cell_type": "markdown",
      "metadata": {
        "id": "2zxWbhV7DV41"
      },
      "source": [
        "# RECURSION"
      ]
    },
    {
      "cell_type": "markdown",
      "metadata": {
        "id": "kPMxu_JHDs0M"
      },
      "source": [
        "1. Write a Python program to calculate the sum of a list of numbers"
      ]
    },
    {
      "cell_type": "code",
      "metadata": {
        "colab": {
          "base_uri": "https://localhost:8080/"
        },
        "id": "tq5c0Id4DZ7i",
        "outputId": "c05675e5-254c-4ea1-b969-4678c579dc67"
      },
      "source": [
        "def list_sum(num_List):\n",
        "    if len(num_List) == 1:\n",
        "        return num_List[0]\n",
        "    else:\n",
        "        return num_List[0] + list_sum(num_List[1:])\n",
        "        \n",
        "print(list_sum([2, 4, 5, 6, 7]))"
      ],
      "execution_count": 4,
      "outputs": [
        {
          "output_type": "stream",
          "name": "stdout",
          "text": [
            "24\n"
          ]
        }
      ]
    },
    {
      "cell_type": "markdown",
      "metadata": {
        "id": "6p1bys4NFVwR"
      },
      "source": [
        " Write a Python program to converting an Integer to a string in any base."
      ]
    },
    {
      "cell_type": "code",
      "metadata": {
        "colab": {
          "base_uri": "https://localhost:8080/"
        },
        "id": "FjvcYRxQFWrU",
        "outputId": "dce9e4e8-d125-4dfe-bea7-dcbeabe3b024"
      },
      "source": [
        "def to_string(n,base):\n",
        "   conver_tString = \"0123456789ABCDEF\"\n",
        "   if n < base:\n",
        "      return conver_tString[n]\n",
        "   else:\n",
        "      return to_string(n//base,base) + conver_tString[n % base]\n",
        "\n",
        "print(to_string(2835,16))"
      ],
      "execution_count": 9,
      "outputs": [
        {
          "output_type": "stream",
          "name": "stdout",
          "text": [
            "B13\n"
          ]
        }
      ]
    },
    {
      "cell_type": "markdown",
      "metadata": {
        "id": "fMqVBwErHqzN"
      },
      "source": [
        " Write a Python program of recursion list sum. \n",
        "Test Data: [1, 2, [3,4], [5,6]]\n",
        "Expected Result: 21"
      ]
    },
    {
      "cell_type": "code",
      "metadata": {
        "colab": {
          "base_uri": "https://localhost:8080/"
        },
        "id": "2gvgTw0GHUyn",
        "outputId": "01702bea-90d7-46a9-9f74-6020bec6c758"
      },
      "source": [
        "def recursive_list_sum(data_list):\n",
        "\ttotal = 0\n",
        "\tfor element in data_list:\n",
        "\t\tif type(element) == type([]):\n",
        "\t\t\ttotal = total + recursive_list_sum(element)\n",
        "\t\telse:\n",
        "\t\t\ttotal = total + element\n",
        "\n",
        "\treturn total\n",
        "print( recursive_list_sum([1, 2, [3,4],[5,6]]))\n"
      ],
      "execution_count": 10,
      "outputs": [
        {
          "output_type": "stream",
          "name": "stdout",
          "text": [
            "21\n"
          ]
        }
      ]
    },
    {
      "cell_type": "markdown",
      "metadata": {
        "id": "YjWowkIFKCc9"
      },
      "source": [
        "Write a Python program to get the factorial of a non-negative integer."
      ]
    },
    {
      "cell_type": "code",
      "metadata": {
        "colab": {
          "base_uri": "https://localhost:8080/"
        },
        "id": "JZsOKhRwJ_Ru",
        "outputId": "2e570570-98d6-4c23-a903-dc2f5b7f476b"
      },
      "source": [
        "def factorial(n):\n",
        "  if n <= 1:\n",
        "    return 1\n",
        "  else:\n",
        "    return n*(factorial(n-1))\n",
        "print(factorial(5))"
      ],
      "execution_count": 11,
      "outputs": [
        {
          "output_type": "stream",
          "name": "stdout",
          "text": [
            "120\n"
          ]
        }
      ]
    },
    {
      "cell_type": "markdown",
      "metadata": {
        "id": "ig2yzJ5FK24l"
      },
      "source": [
        "Write a Python program to solve the Fibonacci sequence using recursion"
      ]
    },
    {
      "cell_type": "code",
      "metadata": {
        "colab": {
          "base_uri": "https://localhost:8080/"
        },
        "id": "YuWE6_tzKy6e",
        "outputId": "e62c8a49-daac-4005-f58f-ad3c988f2873"
      },
      "source": [
        "def fibonacci(n):\n",
        "  if n==1 or n==2 :\n",
        "    return 1\n",
        "  else:\n",
        "    return (fibonacci(n-1)+fibonacci(n-2))\n",
        "print (fibonacci(7))"
      ],
      "execution_count": 14,
      "outputs": [
        {
          "output_type": "stream",
          "name": "stdout",
          "text": [
            "13\n"
          ]
        }
      ]
    },
    {
      "cell_type": "markdown",
      "metadata": {
        "id": "013JD0jpLfB9"
      },
      "source": [
        " Write a Python program to get the sum of a non-negative integer. \n",
        "Test Data:\n",
        "sumDigits(345) -> 12\n",
        "sumDigits(45) -> 9"
      ]
    },
    {
      "cell_type": "code",
      "metadata": {
        "colab": {
          "base_uri": "https://localhost:8080/"
        },
        "id": "3MNTZrbpLSIp",
        "outputId": "6291ef00-1694-44f6-d8a1-2ecc51707de3"
      },
      "source": [
        "def sumDigits(n):\n",
        "  if n == 0:\n",
        "    return 0\n",
        "  else:\n",
        "    return n % 10 + sumDigits(int(n / 10))\n",
        "\n",
        "print(sumDigits(345))\n",
        "print(sumDigits(45))"
      ],
      "execution_count": 15,
      "outputs": [
        {
          "output_type": "stream",
          "name": "stdout",
          "text": [
            "12\n",
            "9\n"
          ]
        }
      ]
    },
    {
      "cell_type": "markdown",
      "metadata": {
        "id": "TLIH-1dqMXon"
      },
      "source": [
        "Write a Python program to calculate the sum of the positive integers of n+(n-2)+(n-4)... (until n-x =< 0).\n",
        "Test Data:\n",
        "sum_series(6) -> 12\n",
        "sum_series(10) -> 30"
      ]
    },
    {
      "cell_type": "code",
      "metadata": {
        "colab": {
          "base_uri": "https://localhost:8080/"
        },
        "id": "hnQYeQ6vMTcN",
        "outputId": "d75fd0cc-d06d-45ee-ed9a-4bfcaa2632d2"
      },
      "source": [
        "def sum_series(n):\n",
        "  if n < 1:\n",
        "    return 0\n",
        "  else:\n",
        "    return n + sum_series(n - 2)\n",
        "\n",
        "print(sum_series(6))\n",
        "print(sum_series(10))\n"
      ],
      "execution_count": 16,
      "outputs": [
        {
          "output_type": "stream",
          "name": "stdout",
          "text": [
            "12\n",
            "30\n"
          ]
        }
      ]
    },
    {
      "cell_type": "code",
      "metadata": {
        "colab": {
          "base_uri": "https://localhost:8080/",
          "height": 129
        },
        "id": "1zOc7BeSNbXd",
        "outputId": "bd89260e-37f1-4c8e-91ec-7384277c93c9"
      },
      "source": [
        " Write a Python program to calculate the harmonic sum of n-1. \n",
        "Note: The harmonic sum  the sum of reciprocals of the positive integers.\n",
        "Example :\n",
        "harmonic series"
      ],
      "execution_count": 18,
      "outputs": [
        {
          "output_type": "error",
          "ename": "SyntaxError",
          "evalue": "ignored",
          "traceback": [
            "\u001b[0;36m  File \u001b[0;32m\"<ipython-input-18-18510fb03d80>\"\u001b[0;36m, line \u001b[0;32m1\u001b[0m\n\u001b[0;31m    Write a Python program to calculate the harmonic sum of n-1.\u001b[0m\n\u001b[0m          ^\u001b[0m\n\u001b[0;31mSyntaxError\u001b[0m\u001b[0;31m:\u001b[0m invalid syntax\n"
          ]
        }
      ]
    },
    {
      "cell_type": "code",
      "metadata": {
        "colab": {
          "base_uri": "https://localhost:8080/"
        },
        "id": "juSQ2QErNXXn",
        "outputId": "8bbaa4ae-ee16-4690-f5bc-39ed2da85296"
      },
      "source": [
        "def harmonic_sum(n):\n",
        "  if n < 2:\n",
        "    return 1\n",
        "  else:\n",
        "    return 1/ n+(harmonic_sum(n-1))\n",
        "print(harmonic_sum(7))\n",
        "print(harmonic_sum(4))"
      ],
      "execution_count": 20,
      "outputs": [
        {
          "output_type": "stream",
          "name": "stdout",
          "text": [
            "2.5928571428571425\n",
            "2.083333333333333\n"
          ]
        }
      ]
    },
    {
      "cell_type": "markdown",
      "metadata": {
        "id": "HNIv5rYoOIaW"
      },
      "source": [
        "Write a Python program to calculate the geometric sum of n-1. \n",
        "Note: In mathematics, a geometric series is a series with a constant ratio between successive terms.\n",
        "Example :\n",
        "harmonic series"
      ]
    },
    {
      "cell_type": "code",
      "metadata": {
        "colab": {
          "base_uri": "https://localhost:8080/"
        },
        "id": "ieq1QKXiN_DJ",
        "outputId": "398368bc-d657-4fd4-fa94-d5eb7e34cf86"
      },
      "source": [
        "def geometric_sum(n):\n",
        "  if n < 0:\n",
        "    return 0\n",
        "  else:\n",
        "    return 1 / (pow(2, n)) + geometric_sum(n - 1)\n",
        " \n",
        "print(geometric_sum(7))\n",
        "print(geometric_sum(4))\n"
      ],
      "execution_count": 21,
      "outputs": [
        {
          "output_type": "stream",
          "name": "stdout",
          "text": [
            "1.9921875\n",
            "1.9375\n"
          ]
        }
      ]
    },
    {
      "cell_type": "markdown",
      "metadata": {
        "id": "jivxGEctOaU-"
      },
      "source": [
        ". Write a Python program to calculate the value of 'a' to the power 'b'. Go to the editor\n",
        "Test Data :\n",
        "(power(3,4) -> 81"
      ]
    },
    {
      "cell_type": "code",
      "metadata": {
        "colab": {
          "base_uri": "https://localhost:8080/"
        },
        "id": "tt2kFbzsOXDt",
        "outputId": "f7a8f4b4-da53-4fa3-e9dc-1838d869453d"
      },
      "source": [
        "def power(a,b):\n",
        "\tif b==0:\n",
        "\t\treturn 1\n",
        "\telif a==0:\n",
        "\t\treturn 0\n",
        "\telif b==1:\n",
        "\t\treturn a\n",
        "\telse:\n",
        "\t\treturn a*power(a,b-1)\n",
        "\n",
        "print(power(3,4))\n"
      ],
      "execution_count": 22,
      "outputs": [
        {
          "output_type": "stream",
          "name": "stdout",
          "text": [
            "81\n"
          ]
        }
      ]
    },
    {
      "cell_type": "markdown",
      "metadata": {
        "id": "t5OjTqsFO2FA"
      },
      "source": [
        "Write a Python program to find  the greatest common divisor (gcd) of two integers."
      ]
    },
    {
      "cell_type": "code",
      "metadata": {
        "colab": {
          "base_uri": "https://localhost:8080/"
        },
        "id": "k8M4PXSqOyry",
        "outputId": "87617373-6fe2-4ef6-e152-f5f46006f8e4"
      },
      "source": [
        "def Recurgcd(a, b):\n",
        "\tlow = min(a, b)\n",
        "\thigh = max(a, b)\n",
        "\n",
        "\tif low == 0:\n",
        "\t\treturn high\n",
        "\telif low == 1:\n",
        "\t\treturn 1\n",
        "\telse:\n",
        "\t\treturn Recurgcd(low, high%low)\n",
        "print(Recurgcd(12,14))\n"
      ],
      "execution_count": 23,
      "outputs": [
        {
          "output_type": "stream",
          "name": "stdout",
          "text": [
            "2\n"
          ]
        }
      ]
    },
    {
      "cell_type": "code",
      "metadata": {
        "id": "wRkXf_wEO9lU"
      },
      "source": [
        ""
      ],
      "execution_count": null,
      "outputs": []
    }
  ]
}