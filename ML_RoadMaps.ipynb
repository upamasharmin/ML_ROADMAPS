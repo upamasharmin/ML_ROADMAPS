{
  "nbformat": 4,
  "nbformat_minor": 0,
  "metadata": {
    "colab": {
      "name": "ML_RoadMaps.ipynb",
      "provenance": []
    },
    "kernelspec": {
      "name": "python3",
      "display_name": "Python 3"
    },
    "language_info": {
      "name": "python"
    }
  },
  "cells": [
    {
      "cell_type": "markdown",
      "metadata": {
        "id": "zUig_z_u_PeX"
      },
      "source": [
        ""
      ]
    },
    {
      "cell_type": "markdown",
      "metadata": {
        "id": "YNDqU984-3dq"
      },
      "source": [
        "**ml_roadmaps_week(1)**"
      ]
    },
    {
      "cell_type": "markdown",
      "metadata": {
        "id": "_AmVVk6R_Vfy"
      },
      "source": [
        "Variable"
      ]
    },
    {
      "cell_type": "code",
      "metadata": {
        "colab": {
          "base_uri": "https://localhost:8080/"
        },
        "id": "M-ZpHNuE_Mlp",
        "outputId": "2222cf2a-f9c4-4bd3-83d0-a088fc1de3c9"
      },
      "source": [
        "rent=8000\n",
        "petrol=500.5\n",
        "groceries=2050.5\n",
        "print(rent)\n",
        "total=rent+petrol+groceries\n",
        "\n",
        "gabbar=\"amjad khan\"\n",
        "jay=\"amitabh\"\n",
        "thakur=\"sanjiv kumar\"\n",
        "\n",
        "print(\"actors in sholey: \",gabbar,jay,thakur)\n",
        "\n",
        "print(type(rent))\n",
        "print(type(groceries))\n",
        "print(type(gabbar))\n",
        "\n",
        "# boolean\n",
        "learn_python=True\n",
        "learn_fortran=False\n",
        "\n",
        "# variable naming rules\n",
        "# no keywords: example True, for\n",
        "# no special characters: foo+bar\n",
        "# they must begin with a letter or _\n",
        "# other characters can be letters (a to Z, A to Z) or numbers (0 to 9)\n",
        "# names are case sensitive\n",
        "\n",
        "bade_bhai=10\n",
        "bade_Bhai=5\n",
        "print(bade_bhai)\n",
        "print(bade_Bhai)\n",
        "\n",
        "# above naming convention is called snake_case\n",
        "\n",
        "# In python you can assign variable any value, not like strict typed language where\n",
        "# you have to declare data type of a variable in advance\n",
        "\n",
        "foo=5\n",
        "foo=\"jalebi\"\n",
        "bar=foo\n",
        "print(\"bar id\",id(bar))\n",
        "print(\"foo id\",id(foo))\n",
        "bar=\"samosa\"\n",
        "foo=\"kachodi\" # at this point nothing is point to jalebi object and it will be garbage collected"
      ],
      "execution_count": 1,
      "outputs": [
        {
          "output_type": "stream",
          "text": [
            "8000\n",
            "actors in sholey:  amjad khan amitabh sanjiv kumar\n",
            "<class 'int'>\n",
            "<class 'float'>\n",
            "<class 'str'>\n",
            "10\n",
            "5\n",
            "bar id 140179086379760\n",
            "foo id 140179086379760\n"
          ],
          "name": "stdout"
        }
      ]
    },
    {
      "cell_type": "markdown",
      "metadata": {
        "id": "j5KMCqtWDK1l"
      },
      "source": [
        "## Numbers"
      ]
    },
    {
      "cell_type": "code",
      "metadata": {
        "colab": {
          "base_uri": "https://localhost:8080/"
        },
        "id": "cA8n4Je6_cuD",
        "outputId": "59495506-b98a-4057-c98c-339d098c99f4"
      },
      "source": [
        "# 1. Use python to find area of triangle\n",
        "# area = (1/2)*base*height\n",
        "base=10.26\n",
        "height=20.572\n",
        "area=(1/2)*base*height\n",
        "print(\"area is:\",area) # area is: 105.53435999999999\n",
        "# to show area till 2 decimal places\n",
        "print(\"area rounded to 2 decimal place:\",round(area,2)) # 105.53\n",
        "\n",
        "# 2. basic airthmetic using numbers\n",
        "print(1+2) # 3\n",
        "print(1/2) # 0.5\n",
        "print(17%3) # 2\n",
        "print(3**2) # 9\n",
        "print(10+2*3) # 16\n",
        "print((10+2)*3) # 36\n",
        "\n",
        "# 3. Number data types (int, float, complex numbers)\n",
        "print(type(area)) # float\n",
        "foo=2.3e-3\n",
        "print(foo) # 0.0023\n",
        "print(type(1)) # int\n",
        "print(0x12) # 18\n",
        "print(type(0x12)) # int\n",
        "c1=2+3j\n",
        "print(type(c1)) # complex\n",
        "c2=3-4j\n",
        "print(c1+c2) # 5-j\n",
        "\n",
        "# 4. Internal representation of numbers\n",
        "# (a) integers are stored in simple binary format\n",
        "print(format(5,'b')) # 4 bytes (or 32 bits), visual of binary presentation\n",
        "# (b) floats use IEEE754 standard : https://en.wikipedia.org/wiki/IEEE_754\n",
        "print(6-5.7) # this prints 0.29999999 and not 0.3. why? Due to IEEE 754 standard"
      ],
      "execution_count": 2,
      "outputs": [
        {
          "output_type": "stream",
          "text": [
            "area is: 105.53435999999999\n",
            "area rounded to 2 decimal place: 105.53\n",
            "3\n",
            "0.5\n",
            "2\n",
            "9\n",
            "16\n",
            "36\n",
            "<class 'float'>\n",
            "0.0023\n",
            "<class 'int'>\n",
            "18\n",
            "<class 'int'>\n",
            "<class 'complex'>\n",
            "(5-1j)\n",
            "101\n",
            "0.2999999999999998\n"
          ],
          "name": "stdout"
        }
      ]
    },
    {
      "cell_type": "markdown",
      "metadata": {
        "id": "2E1hW2ldeWPq"
      },
      "source": [
        "**Strings**"
      ]
    },
    {
      "cell_type": "code",
      "metadata": {
        "colab": {
          "base_uri": "https://localhost:8080/",
          "height": 35
        },
        "id": "8IFUZlt6DYuI",
        "outputId": "0c23422e-f2ee-4c74-e1f7-20b1b8a29900"
      },
      "source": [
        "\n",
        "food='samosa'\n",
        "\n",
        "food[0]"
      ],
      "execution_count": 1,
      "outputs": [
        {
          "output_type": "execute_result",
          "data": {
            "application/vnd.google.colaboratory.intrinsic+json": {
              "type": "string"
            },
            "text/plain": [
              "'s'"
            ]
          },
          "metadata": {},
          "execution_count": 1
        }
      ]
    },
    {
      "cell_type": "code",
      "metadata": {
        "colab": {
          "base_uri": "https://localhost:8080/",
          "height": 35
        },
        "id": "mRVaJTCKeoKI",
        "outputId": "fe55fdae-09ae-4f48-d28b-a1dc20a0a98d"
      },
      "source": [
        "food[-1]"
      ],
      "execution_count": 2,
      "outputs": [
        {
          "output_type": "execute_result",
          "data": {
            "application/vnd.google.colaboratory.intrinsic+json": {
              "type": "string"
            },
            "text/plain": [
              "'a'"
            ]
          },
          "metadata": {},
          "execution_count": 2
        }
      ]
    },
    {
      "cell_type": "code",
      "metadata": {
        "colab": {
          "base_uri": "https://localhost:8080/",
          "height": 35
        },
        "id": "AFo61i5BfRQD",
        "outputId": "49fe8c70-2907-49a4-9916-f67a6daf64c4"
      },
      "source": [
        "food[0:2]"
      ],
      "execution_count": 3,
      "outputs": [
        {
          "output_type": "execute_result",
          "data": {
            "application/vnd.google.colaboratory.intrinsic+json": {
              "type": "string"
            },
            "text/plain": [
              "'sa'"
            ]
          },
          "metadata": {},
          "execution_count": 3
        }
      ]
    },
    {
      "cell_type": "code",
      "metadata": {
        "colab": {
          "base_uri": "https://localhost:8080/",
          "height": 35
        },
        "id": "asxHdyfNfU54",
        "outputId": "8aabdbb3-4429-4fd0-dfa9-5bcbacf910aa"
      },
      "source": [
        "food[-3:-1]"
      ],
      "execution_count": 4,
      "outputs": [
        {
          "output_type": "execute_result",
          "data": {
            "application/vnd.google.colaboratory.intrinsic+json": {
              "type": "string"
            },
            "text/plain": [
              "'os'"
            ]
          },
          "metadata": {},
          "execution_count": 4
        }
      ]
    },
    {
      "cell_type": "code",
      "metadata": {
        "colab": {
          "base_uri": "https://localhost:8080/"
        },
        "id": "7KjB_eS_fXpc",
        "outputId": "e43b2c28-4ed3-4565-caa8-3dd4a0ea24a5"
      },
      "source": [
        "len(food)"
      ],
      "execution_count": 5,
      "outputs": [
        {
          "output_type": "execute_result",
          "data": {
            "text/plain": [
              "6"
            ]
          },
          "metadata": {},
          "execution_count": 5
        }
      ]
    },
    {
      "cell_type": "code",
      "metadata": {
        "id": "Ws_mmivDfiIb"
      },
      "source": [
        "myfood='samosa,jalebi'"
      ],
      "execution_count": 6,
      "outputs": []
    },
    {
      "cell_type": "code",
      "metadata": {
        "colab": {
          "base_uri": "https://localhost:8080/"
        },
        "id": "sAENRsBAflVN",
        "outputId": "fd874336-d13b-4095-af12-1fe292ef51e3"
      },
      "source": [
        "'samosa' in myfood"
      ],
      "execution_count": 8,
      "outputs": [
        {
          "output_type": "execute_result",
          "data": {
            "text/plain": [
              "True"
            ]
          },
          "metadata": {},
          "execution_count": 8
        }
      ]
    },
    {
      "cell_type": "code",
      "metadata": {
        "colab": {
          "base_uri": "https://localhost:8080/"
        },
        "id": "m0sqo3s7fqlJ",
        "outputId": "c17ad4ee-8c28-4427-d735-d3e1789c2e84"
      },
      "source": [
        "'singara' in myfood"
      ],
      "execution_count": 9,
      "outputs": [
        {
          "output_type": "execute_result",
          "data": {
            "text/plain": [
              "False"
            ]
          },
          "metadata": {},
          "execution_count": 9
        }
      ]
    },
    {
      "cell_type": "code",
      "metadata": {
        "colab": {
          "base_uri": "https://localhost:8080/",
          "height": 35
        },
        "id": "5XXwwEhRf1rZ",
        "outputId": "d0af45e8-3b21-4a7b-81c8-cce437bfa31a"
      },
      "source": [
        "\n",
        "myfood.replace('samosa','biryani')"
      ],
      "execution_count": 10,
      "outputs": [
        {
          "output_type": "execute_result",
          "data": {
            "application/vnd.google.colaboratory.intrinsic+json": {
              "type": "string"
            },
            "text/plain": [
              "'biryani,jalebi'"
            ]
          },
          "metadata": {},
          "execution_count": 10
        }
      ]
    },
    {
      "cell_type": "code",
      "metadata": {
        "colab": {
          "base_uri": "https://localhost:8080/",
          "height": 35
        },
        "id": "gyYCya5-gPQY",
        "outputId": "1c548380-4c0a-4358-9cac-382584cb3119"
      },
      "source": [
        "myfood"
      ],
      "execution_count": 11,
      "outputs": [
        {
          "output_type": "execute_result",
          "data": {
            "application/vnd.google.colaboratory.intrinsic+json": {
              "type": "string"
            },
            "text/plain": [
              "'samosa,jalebi'"
            ]
          },
          "metadata": {},
          "execution_count": 11
        }
      ]
    },
    {
      "cell_type": "code",
      "metadata": {
        "colab": {
          "base_uri": "https://localhost:8080/",
          "height": 35
        },
        "id": "sKDjiu9kiPXW",
        "outputId": "90d205f3-d6a5-4a5e-f8ef-6d23d1f71998"
      },
      "source": [
        "myfood=myfood.replace('samosa','biryani')\n",
        "myfood"
      ],
      "execution_count": 12,
      "outputs": [
        {
          "output_type": "execute_result",
          "data": {
            "application/vnd.google.colaboratory.intrinsic+json": {
              "type": "string"
            },
            "text/plain": [
              "'biryani,jalebi'"
            ]
          },
          "metadata": {},
          "execution_count": 12
        }
      ]
    },
    {
      "cell_type": "code",
      "metadata": {
        "colab": {
          "base_uri": "https://localhost:8080/",
          "height": 35
        },
        "id": "6zwKMnZKiYYy",
        "outputId": "8544698c-658e-4fad-8614-3504c11e0184"
      },
      "source": [
        "myfood.upper()"
      ],
      "execution_count": 13,
      "outputs": [
        {
          "output_type": "execute_result",
          "data": {
            "application/vnd.google.colaboratory.intrinsic+json": {
              "type": "string"
            },
            "text/plain": [
              "'BIRYANI,JALEBI'"
            ]
          },
          "metadata": {},
          "execution_count": 13
        }
      ]
    },
    {
      "cell_type": "code",
      "metadata": {
        "colab": {
          "base_uri": "https://localhost:8080/"
        },
        "id": "KxL0xUlMidGB",
        "outputId": "58f031e0-56c8-42e4-c539-f97510d19f46"
      },
      "source": [
        "dir(myfood)"
      ],
      "execution_count": 14,
      "outputs": [
        {
          "output_type": "execute_result",
          "data": {
            "text/plain": [
              "['__add__',\n",
              " '__class__',\n",
              " '__contains__',\n",
              " '__delattr__',\n",
              " '__dir__',\n",
              " '__doc__',\n",
              " '__eq__',\n",
              " '__format__',\n",
              " '__ge__',\n",
              " '__getattribute__',\n",
              " '__getitem__',\n",
              " '__getnewargs__',\n",
              " '__gt__',\n",
              " '__hash__',\n",
              " '__init__',\n",
              " '__init_subclass__',\n",
              " '__iter__',\n",
              " '__le__',\n",
              " '__len__',\n",
              " '__lt__',\n",
              " '__mod__',\n",
              " '__mul__',\n",
              " '__ne__',\n",
              " '__new__',\n",
              " '__reduce__',\n",
              " '__reduce_ex__',\n",
              " '__repr__',\n",
              " '__rmod__',\n",
              " '__rmul__',\n",
              " '__setattr__',\n",
              " '__sizeof__',\n",
              " '__str__',\n",
              " '__subclasshook__',\n",
              " 'capitalize',\n",
              " 'casefold',\n",
              " 'center',\n",
              " 'count',\n",
              " 'encode',\n",
              " 'endswith',\n",
              " 'expandtabs',\n",
              " 'find',\n",
              " 'format',\n",
              " 'format_map',\n",
              " 'index',\n",
              " 'isalnum',\n",
              " 'isalpha',\n",
              " 'isascii',\n",
              " 'isdecimal',\n",
              " 'isdigit',\n",
              " 'isidentifier',\n",
              " 'islower',\n",
              " 'isnumeric',\n",
              " 'isprintable',\n",
              " 'isspace',\n",
              " 'istitle',\n",
              " 'isupper',\n",
              " 'join',\n",
              " 'ljust',\n",
              " 'lower',\n",
              " 'lstrip',\n",
              " 'maketrans',\n",
              " 'partition',\n",
              " 'replace',\n",
              " 'rfind',\n",
              " 'rindex',\n",
              " 'rjust',\n",
              " 'rpartition',\n",
              " 'rsplit',\n",
              " 'rstrip',\n",
              " 'split',\n",
              " 'splitlines',\n",
              " 'startswith',\n",
              " 'strip',\n",
              " 'swapcase',\n",
              " 'title',\n",
              " 'translate',\n",
              " 'upper',\n",
              " 'zfill']"
            ]
          },
          "metadata": {},
          "execution_count": 14
        }
      ]
    },
    {
      "cell_type": "code",
      "metadata": {
        "id": "gwlGnjK_i3Xx"
      },
      "source": [
        "\n",
        "dialog='''kitne aadami the?\n",
        "sardar: do'''"
      ],
      "execution_count": 16,
      "outputs": []
    },
    {
      "cell_type": "code",
      "metadata": {
        "colab": {
          "base_uri": "https://localhost:8080/",
          "height": 35
        },
        "id": "AVKFbBufjFIg",
        "outputId": "7b19a525-9911-425e-ac20-037ccfcccf6b"
      },
      "source": [
        "dialog"
      ],
      "execution_count": 17,
      "outputs": [
        {
          "output_type": "execute_result",
          "data": {
            "application/vnd.google.colaboratory.intrinsic+json": {
              "type": "string"
            },
            "text/plain": [
              "'kitne aadami the?\\nsardar: do'"
            ]
          },
          "metadata": {},
          "execution_count": 17
        }
      ]
    },
    {
      "cell_type": "code",
      "metadata": {
        "colab": {
          "base_uri": "https://localhost:8080/"
        },
        "id": "WxtIlPl3jHDv",
        "outputId": "bc5fd128-6ca3-4a95-f9d0-d6b8f4b1b463"
      },
      "source": [
        "s='hey\\nbro'\n",
        "print(s)"
      ],
      "execution_count": 18,
      "outputs": [
        {
          "output_type": "stream",
          "text": [
            "hey\n",
            "bro\n"
          ],
          "name": "stdout"
        }
      ]
    },
    {
      "cell_type": "code",
      "metadata": {
        "colab": {
          "base_uri": "https://localhost:8080/"
        },
        "id": "eRTYoaF1jJmi",
        "outputId": "d5b1f437-436a-4af9-cffe-819eefbf474e"
      },
      "source": [
        "first='Shakib Al'\n",
        "last='Hasan'\n",
        "print('The best cricket player:',first + ' ' + last)"
      ],
      "execution_count": 20,
      "outputs": [
        {
          "output_type": "stream",
          "text": [
            "The best cricket player: Shakib Al Hasan\n"
          ],
          "name": "stdout"
        }
      ]
    },
    {
      "cell_type": "code",
      "metadata": {
        "colab": {
          "base_uri": "https://localhost:8080/"
        },
        "id": "ip_8C-ZxjODZ",
        "outputId": "255d6670-39f5-4a85-fa30-34b0bd6ed26a"
      },
      "source": [
        "\n",
        "print(f'The best cricket player {first} {last}')"
      ],
      "execution_count": 21,
      "outputs": [
        {
          "output_type": "stream",
          "text": [
            "The best cricket player Shakib Al Hasan\n"
          ],
          "name": "stdout"
        }
      ]
    },
    {
      "cell_type": "markdown",
      "metadata": {
        "id": "6Re_4iUbjfXx"
      },
      "source": [
        "**User Input**"
      ]
    },
    {
      "cell_type": "code",
      "metadata": {
        "colab": {
          "base_uri": "https://localhost:8080/"
        },
        "id": "oJSTjPBTjYMc",
        "outputId": "99950a42-4537-44cf-d6da-6e6865537432"
      },
      "source": [
        "n1=input(\"Enter first number\")\n",
        "n2=input(\"Enter second number\")\n",
        "sum=float(n1)+float(n2)\n",
        "print(\"Sum is:\",sum)"
      ],
      "execution_count": 22,
      "outputs": [
        {
          "output_type": "stream",
          "text": [
            "Enter first number45\n",
            "Enter second number56\n",
            "Sum is: 101.0\n"
          ],
          "name": "stdout"
        }
      ]
    },
    {
      "cell_type": "markdown",
      "metadata": {
        "id": "w6bVuOuKj0p3"
      },
      "source": [
        "**List**"
      ]
    },
    {
      "cell_type": "code",
      "metadata": {
        "colab": {
          "base_uri": "https://localhost:8080/"
        },
        "id": "Op44gtX0jlSp",
        "outputId": "f3f2dc65-6260-4039-a0bc-c3ebd190769d"
      },
      "source": [
        "mithai=['halva','kheer','jalebi','gulab jamun']\n",
        "mithai"
      ],
      "execution_count": 23,
      "outputs": [
        {
          "output_type": "execute_result",
          "data": {
            "text/plain": [
              "['halva', 'kheer', 'jalebi', 'gulab jamun']"
            ]
          },
          "metadata": {},
          "execution_count": 23
        }
      ]
    },
    {
      "cell_type": "code",
      "metadata": {
        "colab": {
          "base_uri": "https://localhost:8080/"
        },
        "id": "Mott6_1vlKhZ",
        "outputId": "e16ecde0-ffe6-45f4-cd92-3a23d4c5f190"
      },
      "source": [
        "type(mithai)"
      ],
      "execution_count": 24,
      "outputs": [
        {
          "output_type": "execute_result",
          "data": {
            "text/plain": [
              "list"
            ]
          },
          "metadata": {},
          "execution_count": 24
        }
      ]
    },
    {
      "cell_type": "code",
      "metadata": {
        "colab": {
          "base_uri": "https://localhost:8080/",
          "height": 35
        },
        "id": "Yk6BGGs4lN7x",
        "outputId": "df4b6d93-96ed-41fa-8663-cd9a43ce45fe"
      },
      "source": [
        "mithai[3]"
      ],
      "execution_count": 25,
      "outputs": [
        {
          "output_type": "execute_result",
          "data": {
            "application/vnd.google.colaboratory.intrinsic+json": {
              "type": "string"
            },
            "text/plain": [
              "'gulab jamun'"
            ]
          },
          "metadata": {},
          "execution_count": 25
        }
      ]
    },
    {
      "cell_type": "code",
      "metadata": {
        "colab": {
          "base_uri": "https://localhost:8080/"
        },
        "id": "kA3jXFPulkEc",
        "outputId": "cc8b7dcf-03dd-4c6f-e876-46b04aa37733"
      },
      "source": [
        "\n",
        "mithai[1:3]"
      ],
      "execution_count": 26,
      "outputs": [
        {
          "output_type": "execute_result",
          "data": {
            "text/plain": [
              "['kheer', 'jalebi']"
            ]
          },
          "metadata": {},
          "execution_count": 26
        }
      ]
    },
    {
      "cell_type": "code",
      "metadata": {
        "colab": {
          "base_uri": "https://localhost:8080/"
        },
        "id": "mq7TNEcDlog1",
        "outputId": "8e13c39a-6811-4f8e-cb7a-580121c7be04"
      },
      "source": [
        "mithai[-4:]"
      ],
      "execution_count": 27,
      "outputs": [
        {
          "output_type": "execute_result",
          "data": {
            "text/plain": [
              "['halva', 'kheer', 'jalebi', 'gulab jamun']"
            ]
          },
          "metadata": {},
          "execution_count": 27
        }
      ]
    },
    {
      "cell_type": "code",
      "metadata": {
        "colab": {
          "base_uri": "https://localhost:8080/"
        },
        "id": "DvIMZez5lrkB",
        "outputId": "6fb2ce54-a46e-4299-a647-8b2e10d0316d"
      },
      "source": [
        "len(mithai)"
      ],
      "execution_count": 28,
      "outputs": [
        {
          "output_type": "execute_result",
          "data": {
            "text/plain": [
              "4"
            ]
          },
          "metadata": {},
          "execution_count": 28
        }
      ]
    },
    {
      "cell_type": "code",
      "metadata": {
        "colab": {
          "base_uri": "https://localhost:8080/"
        },
        "id": "wDWvP62YluVw",
        "outputId": "d850330b-45a3-48fd-bfb2-67770d3c55e8"
      },
      "source": [
        "'singara' in  mithai"
      ],
      "execution_count": 29,
      "outputs": [
        {
          "output_type": "execute_result",
          "data": {
            "text/plain": [
              "False"
            ]
          },
          "metadata": {},
          "execution_count": 29
        }
      ]
    },
    {
      "cell_type": "code",
      "metadata": {
        "colab": {
          "base_uri": "https://localhost:8080/"
        },
        "id": "7BMipC2Llx9w",
        "outputId": "45250b81-7ec2-44ea-8d1d-07a58f4223d8"
      },
      "source": [
        "starter=['rolls','soup']\n",
        "starter"
      ],
      "execution_count": 30,
      "outputs": [
        {
          "output_type": "execute_result",
          "data": {
            "text/plain": [
              "['rolls', 'soup']"
            ]
          },
          "metadata": {},
          "execution_count": 30
        }
      ]
    },
    {
      "cell_type": "code",
      "metadata": {
        "colab": {
          "base_uri": "https://localhost:8080/"
        },
        "id": "TfEzSLMzl-1Q",
        "outputId": "78526a4b-003c-434d-f857-e3b71351b838"
      },
      "source": [
        "food= starter+mithai\n",
        "food"
      ],
      "execution_count": 32,
      "outputs": [
        {
          "output_type": "execute_result",
          "data": {
            "text/plain": [
              "['rolls', 'soup', 'halva', 'kheer', 'jalebi', 'gulab jamun']"
            ]
          },
          "metadata": {},
          "execution_count": 32
        }
      ]
    },
    {
      "cell_type": "code",
      "metadata": {
        "colab": {
          "base_uri": "https://localhost:8080/"
        },
        "id": "l0Im1WpEmEzX",
        "outputId": "5c350889-2be6-41ef-e7b2-12acb3b7f13e"
      },
      "source": [
        "mithai[0]='peda'\n",
        "mithai"
      ],
      "execution_count": 33,
      "outputs": [
        {
          "output_type": "execute_result",
          "data": {
            "text/plain": [
              "['peda', 'kheer', 'jalebi', 'gulab jamun']"
            ]
          },
          "metadata": {},
          "execution_count": 33
        }
      ]
    },
    {
      "cell_type": "code",
      "metadata": {
        "colab": {
          "base_uri": "https://localhost:8080/"
        },
        "id": "63SSmAckmRYr",
        "outputId": "f09f2957-30b6-4e93-fd08-75045e6552f6"
      },
      "source": [
        "mithai[0:2]=['samosa']\n",
        "mithai"
      ],
      "execution_count": 34,
      "outputs": [
        {
          "output_type": "execute_result",
          "data": {
            "text/plain": [
              "['samosa', 'jalebi', 'gulab jamun']"
            ]
          },
          "metadata": {},
          "execution_count": 34
        }
      ]
    },
    {
      "cell_type": "code",
      "metadata": {
        "colab": {
          "base_uri": "https://localhost:8080/"
        },
        "id": "WJArv2PbmcD-",
        "outputId": "7082b05c-ecfd-4659-8bc5-b0060562fe85"
      },
      "source": [
        "mithai[0:2]=[3,5,6,7,8,9]\n",
        "mithai"
      ],
      "execution_count": 35,
      "outputs": [
        {
          "output_type": "execute_result",
          "data": {
            "text/plain": [
              "[3, 5, 6, 7, 8, 9, 'gulab jamun']"
            ]
          },
          "metadata": {},
          "execution_count": 35
        }
      ]
    },
    {
      "cell_type": "markdown",
      "metadata": {
        "id": "Q9W20lVdm2As"
      },
      "source": [
        "**IF**"
      ]
    },
    {
      "cell_type": "code",
      "metadata": {
        "colab": {
          "base_uri": "https://localhost:8080/"
        },
        "id": "greDdA1Ympeh",
        "outputId": "d60101b5-03fe-4874-9852-c91ce91fc142"
      },
      "source": [
        "\n",
        "n=input(\"Enter a number\")\n",
        "n=int(n)\n",
        "if n%2==0:\n",
        "    print(\"Number is even\")\n",
        "else:\n",
        "    print(\"Number is odd\")"
      ],
      "execution_count": 36,
      "outputs": [
        {
          "output_type": "stream",
          "text": [
            "Enter a number10\n",
            "Number is even\n"
          ],
          "name": "stdout"
        }
      ]
    },
    {
      "cell_type": "code",
      "metadata": {
        "colab": {
          "base_uri": "https://localhost:8080/"
        },
        "id": "BPpdh2DOm88m",
        "outputId": "e27bde3d-7845-47dc-e9aa-3b7b33b26d58"
      },
      "source": [
        "indian=[\"samosa\",\"kachori\",\"dal\",\"naan\"]\n",
        "pakistani=[\"nihari\",\"paya\",\"karahi\"]\n",
        "bangladesi=[\"panta bhat\",\"chorchori\",\"fuchka\"]\n",
        "dish=input(\"Enter a dish name:\")\n",
        "\n",
        "if dish in indian:\n",
        "    print(f\"{dish} is Indian\")\n",
        "elif dish in pakistani:\n",
        "    print(f\"{dish} is pakistani\")\n",
        "elif dish in bangladesi:\n",
        "    print(f\"{dish} is bangladesi\")\n",
        "else:\n",
        "    print(f\"Based on my limited knowledge, I don't know which cuisine is {dish}\")\n",
        "\t"
      ],
      "execution_count": 39,
      "outputs": [
        {
          "output_type": "stream",
          "text": [
            "Enter a dish name:dal\n",
            "dal is Indian\n"
          ],
          "name": "stdout"
        }
      ]
    },
    {
      "cell_type": "markdown",
      "metadata": {
        "id": "YOHSigzVu6DR"
      },
      "source": [
        "**FOR**"
      ]
    },
    {
      "cell_type": "code",
      "metadata": {
        "colab": {
          "base_uri": "https://localhost:8080/"
        },
        "id": "FT3apBULrftH",
        "outputId": "fc761c7e-f86f-4b8d-92fb-5669cdbbe400"
      },
      "source": [
        "expenses = [1200,1500,1300,1700]\n",
        "total = expenses[0] + expenses[1] + expenses[2] + expenses[3]\n",
        "print(total)\n",
        "total = 0\n",
        "for expense in expenses:\n",
        "    total = total + expense\n",
        "print(total)"
      ],
      "execution_count": 40,
      "outputs": [
        {
          "output_type": "stream",
          "text": [
            "5700\n",
            "5700\n"
          ],
          "name": "stdout"
        }
      ]
    },
    {
      "cell_type": "code",
      "metadata": {
        "colab": {
          "base_uri": "https://localhost:8080/"
        },
        "id": "yO_uSCnDvaSQ",
        "outputId": "b97c3800-8fa3-429a-9ae1-36e7a36b115e"
      },
      "source": [
        "print(range(1,11))\n",
        "print(list(range(1,11)))\n",
        "for i in range(1,11):\n",
        "    print(i)\n",
        "\n",
        "# in monthly expense list print month number, expense and then total\n",
        "total = 0\n",
        "for i in range(len(expenses)):\n",
        "    print(f\"Month {i+1}, expense: {expenses[i]}\")\n",
        "    total += expenses[i]\n",
        "print(f\"Total expenses is {total}\")\n",
        "\n",
        "# break\n",
        "key_location=\"chair\"\n",
        "locations = [\"sofa\",\"garage\",\"chair\",\"table\",\"closet\"]\n",
        "for loc in locations:\n",
        "    if loc == key_location:\n",
        "        print(\"Key found at:\",loc)\n",
        "        break\n",
        "    else:\n",
        "        print(\"Key not found in:\",loc)\n",
        "\n",
        "# continue: print odd numbers between 1 to 10\n",
        "for i in range(11):\n",
        "    if i%2==0:\n",
        "        continue\n",
        "    print(i)\n",
        "\n",
        "# while loop\n",
        "num=0\n",
        "while num<=10:\n",
        "    print(num)\n",
        "    num=num+1"
      ],
      "execution_count": 41,
      "outputs": [
        {
          "output_type": "stream",
          "text": [
            "range(1, 11)\n",
            "[1, 2, 3, 4, 5, 6, 7, 8, 9, 10]\n",
            "1\n",
            "2\n",
            "3\n",
            "4\n",
            "5\n",
            "6\n",
            "7\n",
            "8\n",
            "9\n",
            "10\n",
            "Month 1, expense: 1200\n",
            "Month 2, expense: 1500\n",
            "Month 3, expense: 1300\n",
            "Month 4, expense: 1700\n",
            "Total expenses is 5700\n",
            "Key not found in: sofa\n",
            "Key not found in: garage\n",
            "Key found at: chair\n",
            "1\n",
            "3\n",
            "5\n",
            "7\n",
            "9\n",
            "0\n",
            "1\n",
            "2\n",
            "3\n",
            "4\n",
            "5\n",
            "6\n",
            "7\n",
            "8\n",
            "9\n",
            "10\n"
          ],
          "name": "stdout"
        }
      ]
    },
    {
      "cell_type": "markdown",
      "metadata": {
        "id": "WsklNtugzZoE"
      },
      "source": [
        "**FUNCTION**"
      ]
    },
    {
      "cell_type": "code",
      "metadata": {
        "colab": {
          "base_uri": "https://localhost:8080/"
        },
        "id": "OyqQgUodwlF2",
        "outputId": "5ae99afc-2f3d-45bf-b5fe-10866809899c"
      },
      "source": [
        "# Calculate expense sum for two lists without function\n",
        "bharat_expenses = [20,30,45]\n",
        "bilal_expenses = [45,67,34]\n",
        "\n",
        "total=0\n",
        "for item in bharat_expenses:\n",
        "    total+=item\n",
        "print(\"Bharat's total:\",total)\n",
        "\n",
        "total=0\n",
        "for item in bilal_expenses:\n",
        "    total+=item\n",
        "print(\"Bilal's total:\",total)"
      ],
      "execution_count": 42,
      "outputs": [
        {
          "output_type": "stream",
          "text": [
            "Bharat's total: 95\n",
            "Bilal's total: 146\n"
          ],
          "name": "stdout"
        }
      ]
    },
    {
      "cell_type": "code",
      "metadata": {
        "colab": {
          "base_uri": "https://localhost:8080/"
        },
        "id": "UrLqgAtvznnV",
        "outputId": "403db3e1-ba77-454a-cae0-8675901071af"
      },
      "source": [
        "def find_total(exp):\n",
        "  total=0\n",
        "  for item in exp:\n",
        "    total+=item\n",
        "  return total\n",
        "bharat_total=find_total(bharat_expenses)\n",
        "print(\"Bharat's total:\",bharat_total)"
      ],
      "execution_count": 43,
      "outputs": [
        {
          "output_type": "stream",
          "text": [
            "Bharat's total: 95\n"
          ],
          "name": "stdout"
        }
      ]
    },
    {
      "cell_type": "code",
      "metadata": {
        "colab": {
          "base_uri": "https://localhost:8080/"
        },
        "id": "17wAd2r60QW3",
        "outputId": "40031a61-70ed-471e-e916-459962d8c408"
      },
      "source": [
        "# Positional argument vs named arguments\n",
        "def cylinder_volume(radius,height=1):\n",
        "    print(\"radius is:\",radius)\n",
        "    print(\"height is:\",height)\n",
        "    area = 3.14*(radius**2)*height\n",
        "    return area\n",
        "\n",
        "r=5\n",
        "h=10\n",
        "print(cylinder_volume(height=h,radius=r))\n",
        "\n",
        "# default arguments\n",
        "r=5\n",
        "h=10\n",
        "print(cylinder_volume(radius=r))\n"
      ],
      "execution_count": 44,
      "outputs": [
        {
          "output_type": "stream",
          "text": [
            "radius is: 5\n",
            "height is: 10\n",
            "785.0\n",
            "radius is: 5\n",
            "height is: 1\n",
            "78.5\n"
          ],
          "name": "stdout"
        }
      ]
    },
    {
      "cell_type": "markdown",
      "metadata": {
        "id": "VNngTUaK1GFd"
      },
      "source": [
        "**MODULES**"
      ]
    },
    {
      "cell_type": "code",
      "metadata": {
        "colab": {
          "base_uri": "https://localhost:8080/"
        },
        "id": "U5hYF59u0qhy",
        "outputId": "117c1655-8193-42de-e866-813a50cb9aca"
      },
      "source": [
        "import math\n",
        "math.sqrt(25)"
      ],
      "execution_count": 45,
      "outputs": [
        {
          "output_type": "execute_result",
          "data": {
            "text/plain": [
              "5.0"
            ]
          },
          "metadata": {},
          "execution_count": 45
        }
      ]
    },
    {
      "cell_type": "code",
      "metadata": {
        "id": "pJGsaRns1PGU"
      },
      "source": [
        "import calendar"
      ],
      "execution_count": 46,
      "outputs": []
    },
    {
      "cell_type": "code",
      "metadata": {
        "colab": {
          "base_uri": "https://localhost:8080/"
        },
        "id": "uwEGtqXg1S3C",
        "outputId": "231b6f75-6c98-4b33-e6e0-9ee8b58e580e"
      },
      "source": [
        "dec = calendar.month(2020,12)\n",
        "print(dec)"
      ],
      "execution_count": 48,
      "outputs": [
        {
          "output_type": "stream",
          "text": [
            "   December 2020\n",
            "Mo Tu We Th Fr Sa Su\n",
            "    1  2  3  4  5  6\n",
            " 7  8  9 10 11 12 13\n",
            "14 15 16 17 18 19 20\n",
            "21 22 23 24 25 26 27\n",
            "28 29 30 31\n",
            "\n"
          ],
          "name": "stdout"
        }
      ]
    },
    {
      "cell_type": "code",
      "metadata": {
        "colab": {
          "base_uri": "https://localhost:8080/"
        },
        "id": "-QaE4n9g1eMc",
        "outputId": "0b84c5c7-e455-4e9a-f7f0-babf2dc7f6c1"
      },
      "source": [
        "calendar.isleap(2020)"
      ],
      "execution_count": 49,
      "outputs": [
        {
          "output_type": "execute_result",
          "data": {
            "text/plain": [
              "True"
            ]
          },
          "metadata": {},
          "execution_count": 49
        }
      ]
    },
    {
      "cell_type": "code",
      "metadata": {
        "colab": {
          "base_uri": "https://localhost:8080/"
        },
        "id": "W2NoFDuG1m_P",
        "outputId": "e1f10937-3ea9-4772-f559-4c3cf6f83d66"
      },
      "source": [
        "\n",
        "calendar.isleap(2019)"
      ],
      "execution_count": 50,
      "outputs": [
        {
          "output_type": "execute_result",
          "data": {
            "text/plain": [
              "False"
            ]
          },
          "metadata": {},
          "execution_count": 50
        }
      ]
    },
    {
      "cell_type": "markdown",
      "metadata": {
        "id": "qN3cHZsv12sg"
      },
      "source": [
        "**DICT_TUPLE**"
      ]
    },
    {
      "cell_type": "code",
      "metadata": {
        "id": "CDVdTRzn1p5N"
      },
      "source": [
        "captains = {\n",
        "    'india': 'virat',\n",
        "    'bangladesh': 'shakib',\n",
        "    'sri lanka': 'dimuth',\n",
        "}"
      ],
      "execution_count": 53,
      "outputs": []
    },
    {
      "cell_type": "code",
      "metadata": {
        "colab": {
          "base_uri": "https://localhost:8080/"
        },
        "id": "-MWgCxEv1_dZ",
        "outputId": "934028b9-4b7f-4daa-ae5b-a6cb745f2348"
      },
      "source": [
        "type(captains)"
      ],
      "execution_count": 52,
      "outputs": [
        {
          "output_type": "execute_result",
          "data": {
            "text/plain": [
              "dict"
            ]
          },
          "metadata": {},
          "execution_count": 52
        }
      ]
    },
    {
      "cell_type": "code",
      "metadata": {
        "colab": {
          "base_uri": "https://localhost:8080/",
          "height": 35
        },
        "id": "NFGOF2xA2B6D",
        "outputId": "9e568e78-9489-4d95-c023-39baa1b9b25a"
      },
      "source": [
        "captains['bangladesh']"
      ],
      "execution_count": 54,
      "outputs": [
        {
          "output_type": "execute_result",
          "data": {
            "application/vnd.google.colaboratory.intrinsic+json": {
              "type": "string"
            },
            "text/plain": [
              "'shakib'"
            ]
          },
          "metadata": {},
          "execution_count": 54
        }
      ]
    },
    {
      "cell_type": "code",
      "metadata": {
        "colab": {
          "base_uri": "https://localhost:8080/"
        },
        "id": "Y7EJRJ2h2kwy",
        "outputId": "a8956d0f-423d-4744-9cac-f63073c59757"
      },
      "source": [
        "captains.keys()"
      ],
      "execution_count": 55,
      "outputs": [
        {
          "output_type": "execute_result",
          "data": {
            "text/plain": [
              "dict_keys(['india', 'bangladesh', 'sri lanka'])"
            ]
          },
          "metadata": {},
          "execution_count": 55
        }
      ]
    },
    {
      "cell_type": "code",
      "metadata": {
        "colab": {
          "base_uri": "https://localhost:8080/"
        },
        "id": "mJhi3vFZ2pts",
        "outputId": "784eed25-fe9c-4130-8c23-a8aebaafcfa3"
      },
      "source": [
        "\n",
        "captains.values()"
      ],
      "execution_count": 56,
      "outputs": [
        {
          "output_type": "execute_result",
          "data": {
            "text/plain": [
              "dict_values(['virat', 'shakib', 'dimuth'])"
            ]
          },
          "metadata": {},
          "execution_count": 56
        }
      ]
    },
    {
      "cell_type": "code",
      "metadata": {
        "colab": {
          "base_uri": "https://localhost:8080/"
        },
        "id": "JMMzh_282sRH",
        "outputId": "a24897b5-86db-45d6-844b-068091244a3e"
      },
      "source": [
        "captains['england']='root'\n",
        "captains"
      ],
      "execution_count": 57,
      "outputs": [
        {
          "output_type": "execute_result",
          "data": {
            "text/plain": [
              "{'bangladesh': 'shakib',\n",
              " 'england': 'root',\n",
              " 'india': 'virat',\n",
              " 'sri lanka': 'dimuth'}"
            ]
          },
          "metadata": {},
          "execution_count": 57
        }
      ]
    },
    {
      "cell_type": "code",
      "metadata": {
        "colab": {
          "base_uri": "https://localhost:8080/"
        },
        "id": "CLB7Ao0f2zkE",
        "outputId": "e478fae1-f115-4e2d-de68-7cddc5329e2e"
      },
      "source": [
        "\n",
        "del captains['england']\n",
        "captains"
      ],
      "execution_count": 58,
      "outputs": [
        {
          "output_type": "execute_result",
          "data": {
            "text/plain": [
              "{'bangladesh': 'shakib', 'india': 'virat', 'sri lanka': 'dimuth'}"
            ]
          },
          "metadata": {},
          "execution_count": 58
        }
      ]
    },
    {
      "cell_type": "code",
      "metadata": {
        "colab": {
          "base_uri": "https://localhost:8080/"
        },
        "id": "2F95UDI424iD",
        "outputId": "e1a8329c-f73e-48cd-8b6a-d9af3bbb0ae2"
      },
      "source": [
        "\n",
        "for team in captains:\n",
        "    print(team)"
      ],
      "execution_count": 59,
      "outputs": [
        {
          "output_type": "stream",
          "text": [
            "india\n",
            "bangladesh\n",
            "sri lanka\n"
          ],
          "name": "stdout"
        }
      ]
    },
    {
      "cell_type": "code",
      "metadata": {
        "colab": {
          "base_uri": "https://localhost:8080/"
        },
        "id": "Iyf_04T92_-3",
        "outputId": "2dc276c0-6713-4a88-a5ac-491767a99f31"
      },
      "source": [
        "\n",
        "captains.clear()\n",
        "captains"
      ],
      "execution_count": 60,
      "outputs": [
        {
          "output_type": "execute_result",
          "data": {
            "text/plain": [
              "{}"
            ]
          },
          "metadata": {},
          "execution_count": 60
        }
      ]
    },
    {
      "cell_type": "code",
      "metadata": {
        "colab": {
          "base_uri": "https://localhost:8080/"
        },
        "id": "uMJ7hyL03XGB",
        "outputId": "cd179259-47f5-4382-c51f-a81aa3f863e4"
      },
      "source": [
        "point=(4,10)\n",
        "type(point)"
      ],
      "execution_count": 61,
      "outputs": [
        {
          "output_type": "execute_result",
          "data": {
            "text/plain": [
              "tuple"
            ]
          },
          "metadata": {},
          "execution_count": 61
        }
      ]
    },
    {
      "cell_type": "code",
      "metadata": {
        "colab": {
          "base_uri": "https://localhost:8080/"
        },
        "id": "Wg-ZnxEg3aF-",
        "outputId": "aaa858e9-adfb-45e2-f451-cc1a57f5eb1f"
      },
      "source": [
        "\n",
        "point[0]"
      ],
      "execution_count": 62,
      "outputs": [
        {
          "output_type": "execute_result",
          "data": {
            "text/plain": [
              "4"
            ]
          },
          "metadata": {},
          "execution_count": 62
        }
      ]
    },
    {
      "cell_type": "code",
      "metadata": {
        "id": "bp9_XHtL3dZN"
      },
      "source": [
        "def add_multiply(a,b):\n",
        "    total = a+b\n",
        "    m = a*b\n",
        "    return total, m"
      ],
      "execution_count": 63,
      "outputs": []
    },
    {
      "cell_type": "code",
      "metadata": {
        "id": "KFuiU00I3lYG"
      },
      "source": [
        "s, m = add_multiply(4,5)"
      ],
      "execution_count": 64,
      "outputs": []
    },
    {
      "cell_type": "code",
      "metadata": {
        "colab": {
          "base_uri": "https://localhost:8080/"
        },
        "id": "YwNVSNA23nsH",
        "outputId": "aae90530-858b-4989-c07a-7a822a08097d"
      },
      "source": [
        "s"
      ],
      "execution_count": 65,
      "outputs": [
        {
          "output_type": "execute_result",
          "data": {
            "text/plain": [
              "9"
            ]
          },
          "metadata": {},
          "execution_count": 65
        }
      ]
    },
    {
      "cell_type": "code",
      "metadata": {
        "colab": {
          "base_uri": "https://localhost:8080/"
        },
        "id": "sW_PyZCw3qLx",
        "outputId": "e02f011e-235a-461c-b6a5-89cbeae94ea1"
      },
      "source": [
        "m"
      ],
      "execution_count": 66,
      "outputs": [
        {
          "output_type": "execute_result",
          "data": {
            "text/plain": [
              "20"
            ]
          },
          "metadata": {},
          "execution_count": 66
        }
      ]
    },
    {
      "cell_type": "code",
      "metadata": {
        "id": "Sgegs72s3rIe"
      },
      "source": [
        ""
      ],
      "execution_count": null,
      "outputs": []
    }
  ]
}